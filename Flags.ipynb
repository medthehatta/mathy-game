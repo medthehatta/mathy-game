{
 "cells": [
  {
   "cell_type": "markdown",
   "metadata": {},
   "source": [
    "# Moving around regular graphs with flags\n",
    "\n",
    "This notebook lets us explore a means of navigating planar graphs (with a certain kind of symmetry) by applying \"nullary\" operations in a particular order.\n",
    "\n",
    "That is, the user is presented with a graph and a \"starting point\", and by providing strings of operations (`v`, `e`, and `f`), their starting point will move around the graph.\n",
    "\n",
    "The last cell has the demo, so if you \"Restart and run all\" you can play with it down at the bottom."
   ]
  },
  {
   "cell_type": "markdown",
   "metadata": {},
   "source": [
    "**Implementation Note**\n",
    "\n",
    "The vast majority of the implementation here is about drawing points moving on a very simple graph, and the approach is a little nonstandard.  So here's a brief description of the approach:\n",
    "\n",
    "We have a hardcoded graph diagram, and to show flags moving on that graph, we simply change the colors of the graph facets to indicate \"active\" or \"inactive\" facets.\n",
    "\n",
    "The diagrams being output are SVGs, which are XML.  XML is obnoxious to work with using native libraries like lxml, so we use xmltodict and the lenses package to treat the SVG XML like a big dictionary.\n",
    "\n",
    "xmltodict will take an XML file and turn it into a list of dictionaries whose keys are tag names.  The values for each tag name are themselves lists of dictionaries, and nesting continues recursively.  Tag *attributes* are modeled as keys prefixed with \"@\".  So the id attribute of a top-level \"p\" tag might be at `root['p'][0]['@id']`, for example.\n",
    "\n",
    "The lenses library allows you to create [lenses](https://python-lenses.readthedocs.io/en/latest/tutorial/intro.html), which are essentially views into nested data structures.  You create a lens object that \"focuses\" on part of a data structure, and that object will have ways to get the data that you're focusing on out of a structure.\n",
    "\n",
    "They're different from, say, \"getter functions\" in that you can use them to also *set* the data you're focusing on within the structure.  Furthermore, your \"view\" doesn't have to simply be a slice of the structure you're traversing.  For example, here we have a lens which focuses on an XML string *as a dictionary*, and we can use lens setters to modify the dictionary.  The lens will then *change the XML string* in the appropriate way."
   ]
  },
  {
   "cell_type": "code",
   "execution_count": 1,
   "metadata": {
    "scrolled": true
   },
   "outputs": [],
   "source": [
    "from lenses import lens\n",
    "import xmltodict\n",
    "\n",
    "# Set up the lens which will let us \"focus\" on XML markup as a dictionary\n",
    "xml_dict_iso = lens.Iso(xmltodict.parse, xmltodict.unparse)"
   ]
  },
  {
   "cell_type": "code",
   "execution_count": 2,
   "metadata": {
    "scrolled": true
   },
   "outputs": [],
   "source": [
    "# Create functions which return lenses onto the vertex, edge, and face elements in our SVG.\n",
    "#\n",
    "# The vertex, edge, and face elements are ellipses, paths, and again ellipses whose names\n",
    "# are e.g. vertex1, edge1_2, face1_2_4, etc.\n",
    "#\n",
    "\n",
    "def lens_vertex(i):\n",
    "    return lens['svg']['g']['ellipse'].Each().Filter(lambda el: el['@id'] == 'vertex{}'.format(i))\n",
    "\n",
    "def lens_edge(i, j):\n",
    "    return lens['svg']['g']['path'].Each().Filter(lambda el: el['@id'] == 'edge{}_{}'.format(i, j))\n",
    "\n",
    "def lens_face(*vertices):\n",
    "    return lens['svg']['g']['ellipse'].Each().Filter(lambda el: el['@id'] == 'face' + '_'.join(map(str, vertices)))"
   ]
  },
  {
   "cell_type": "code",
   "execution_count": 3,
   "metadata": {
    "scrolled": true
   },
   "outputs": [],
   "source": [
    "def dict_from_style_kv(s):\n",
    "    return dict((k, v) for (k, v) in [ss.split(':', 1) for ss in s.split(';')])\n",
    "\n",
    "def style_kv_from_dict(d):\n",
    "    return ';'.join('{}:{}'.format(k, v) for (k, v) in d.items())\n",
    "\n",
    "# Set up the lens which will let us \"focus\" on a big CSS-like \"style string\" as a dictionary\n",
    "dict_kv_iso = lens.Iso(dict_from_style_kv, style_kv_from_dict)"
   ]
  },
  {
   "cell_type": "code",
   "execution_count": 4,
   "metadata": {
    "scrolled": true
   },
   "outputs": [],
   "source": [
    "# Set up the conventions for coloring active and inactive facets of the graph\n",
    "\n",
    "# Set some color constants\n",
    "active_color = '#dd2a2b'\n",
    "vertex_inactive_color = '#ffffff'\n",
    "edge_inactive_color = '#000000'\n",
    "face_inactive_color = '#ffffff'\n",
    "\n",
    "# Set up the lenses which focus on the appropriate color property for each type of facet\n",
    "vertex_style = lens['@style'] & dict_kv_iso & lens['fill']\n",
    "edge_style = lens['@style'] & dict_kv_iso & lens['stroke']\n",
    "face_style = lens['@style'] & dict_kv_iso & lens['fill']"
   ]
  },
  {
   "cell_type": "code",
   "execution_count": 5,
   "metadata": {
    "scrolled": true
   },
   "outputs": [
    {
     "data": {
      "text/plain": [
       "\"\\nwith open('dodecahedron.svg') as f:\\n    xml = f.read()\\n\\nvertex_ids = ('vertex{}'.format(i) for i in count(1))\\nvertex_renames = zip(vertex_styles[0].collect()(xml), vertex_ids)\\nfor (text, replacement) in vertex_renames:\\n    xml = re.sub(r'\\x08{}\\x08'.format(text), replacement, xml)\\n    \\nxml = edges.modify(label_edge)(xml)\\n\\nlabeling = label_vertices(vertex_positions.collect()(xml), label_positions.collect()(xml))\\n\\nxml = label_positions.modify(lambda lxyt: (lxyt[0], lxyt[1], lxyt[2], str(labeling[lxyt[0]])))(xml)\\n\\nwith open('dodecahedron_edit.svg', 'w') as f:\\n    f.write(xml)\\n\\ndisplay(SVG(xml))\\n\\nface_names = (\\n    xml_dict_iso &\\n    lens['svg']['g']['ellipse'].Each() &\\n    lens.Filter(lambda ell: 'face' in ell['@id'])['@id']\\n).collect()(xml)\\n[tuple(map(int, f.replace('face', '').split('_'))) for f in face_names]\\n\""
      ]
     },
     "execution_count": 5,
     "metadata": {},
     "output_type": "execute_result"
    }
   ],
   "source": [
    "from cytoolz import get, merge, partial, keyfilter, valfilter\n",
    "from itertools import count\n",
    "import re\n",
    "from IPython.display import SVG, display\n",
    "\n",
    "def named_pair(field='@id'):\n",
    "    return lens.Lens(\n",
    "        lambda pair: merge(pair[1], {field: pair[0]}),\n",
    "        lambda pair, update: (update[field], keyfilter(lambda k: k != field, update)),\n",
    "    )\n",
    "\n",
    "def subdict(keys, dic):\n",
    "    return dict(zip(keys, get(list(keys), dic, default=None)))\n",
    "\n",
    "def update_with_subdict(dic, update):\n",
    "    return merge(dic, valfilter(lambda v: v is not None, update))\n",
    "\n",
    "def subdict_lens(*items):\n",
    "    return lens.Lens(partial(subdict, items), update_with_subdict)\n",
    "\n",
    "vertices = (\n",
    "    xml_dict_iso &\n",
    "    lens['svg']['g']['ellipse'].Each() &\n",
    "    lens.Filter(\n",
    "        lambda ell: (lens['@style'] & dict_kv_iso & lens['stroke']).get()(ell) == '#000000'\n",
    "    )\n",
    ")\n",
    "vertex_styles = (\n",
    "    vertices &\n",
    "    lens.Tuple(\n",
    "        lens['@id'],\n",
    "        lens['@style'] & dict_kv_iso,\n",
    "    )\n",
    ")\n",
    "\n",
    "edges = (\n",
    "    xml_dict_iso &\n",
    "    lens['svg']['g']['path'].Each() &\n",
    "    lens.Tuple(\n",
    "        lens['@id'],\n",
    "        lens['@inkscape:connection-start'],\n",
    "        lens['@inkscape:connection-end'],\n",
    "    )\n",
    ")\n",
    "\n",
    "faces = (\n",
    "    xml_dict_iso &\n",
    "    lens['svg']['g']['ellipse'].Each() &\n",
    "    lens.Tuple(\n",
    "        lens['@id'],\n",
    "        lens['@style'] & dict_kv_iso,\n",
    "    ) &\n",
    "    lens.Filter(lambda pair: pair[1]['stroke'] != '#000000')\n",
    ")\n",
    "\n",
    "labels = (\n",
    "    xml_dict_iso &\n",
    "    lens['svg']['g']['text'].Each()\n",
    ")\n",
    "\n",
    "numeric = lens.Iso(lambda s: float(s), lambda f: str(f))\n",
    "vertex_positions = (\n",
    "    vertices &\n",
    "    lens.Tuple(lens['@id'], lens['@cx'] & numeric, lens['@cy'] & numeric)\n",
    ")\n",
    "label_positions = (\n",
    "    labels &\n",
    "    lens.Tuple(lens['@id'], lens['@x'] & numeric, lens['@y'] & numeric, lens['tspan']['#text'])\n",
    ")\n",
    "\n",
    "def label_edge(edge):\n",
    "    (eid, v1, v2) = edge\n",
    "    v1_num = int(v1.replace('#vertex', ''))\n",
    "    v2_num = int(v2.replace('#vertex', ''))\n",
    "    v = sorted([v1_num, v2_num])\n",
    "    return ('edge{}_{}'.format(*v), v1, v2)\n",
    "\n",
    "def label_vertices(vertices, labels):\n",
    "    result = {}\n",
    "    for (vertex, x, y) in vertices:\n",
    "        result[vertex] = min(((lx - x)**2 + (ly - y)**2, lt) for (lt, lx, ly, _) in labels)[1]\n",
    "    return {label: int(vertex.replace('vertex', '')) for (vertex, label) in result.items()}\n",
    "\n",
    "\"\"\"\n",
    "with open('dodecahedron.svg') as f:\n",
    "    xml = f.read()\n",
    "\n",
    "vertex_ids = ('vertex{}'.format(i) for i in count(1))\n",
    "vertex_renames = zip(vertex_styles[0].collect()(xml), vertex_ids)\n",
    "for (text, replacement) in vertex_renames:\n",
    "    xml = re.sub(r'\\b{}\\b'.format(text), replacement, xml)\n",
    "    \n",
    "xml = edges.modify(label_edge)(xml)\n",
    "\n",
    "labeling = label_vertices(vertex_positions.collect()(xml), label_positions.collect()(xml))\n",
    "\n",
    "xml = label_positions.modify(lambda lxyt: (lxyt[0], lxyt[1], lxyt[2], str(labeling[lxyt[0]])))(xml)\n",
    "\n",
    "with open('dodecahedron_edit.svg', 'w') as f:\n",
    "    f.write(xml)\n",
    "\n",
    "display(SVG(xml))\n",
    "\n",
    "face_names = (\n",
    "    xml_dict_iso &\n",
    "    lens['svg']['g']['ellipse'].Each() &\n",
    "    lens.Filter(lambda ell: 'face' in ell['@id'])['@id']\n",
    ").collect()(xml)\n",
    "[tuple(map(int, f.replace('face', '').split('_'))) for f in face_names]\n",
    "\"\"\""
   ]
  },
  {
   "cell_type": "code",
   "execution_count": 6,
   "metadata": {
    "scrolled": true
   },
   "outputs": [],
   "source": [
    "from contextlib import contextmanager\n",
    "from IPython.display import SVG, display\n",
    "\n",
    "\n",
    "def _ms(*lst):\n",
    "    \"\"\"\n",
    "    Normalize edge and face names.\n",
    "    \n",
    "    Edges and faces have names with indices in increasing order,\n",
    "    so for example if we compute that we want to mess with edge (4, 3),\n",
    "    this function will normalize this to (3, 4).\n",
    "    \"\"\"\n",
    "    return tuple(sorted(lst))\n",
    "\n",
    "\n",
    "def require_started(func):\n",
    "    \"\"\"\n",
    "    Method decorator which makes sure a flag is started.\n",
    "    \n",
    "    If we are missing an active vertex, edge, or face, we can't use\n",
    "    some of the methods in ``SVGArtist``.  This marks those methods\n",
    "    so they can all fail consistently.\n",
    "    \"\"\"\n",
    "    def _wrapped(self, *args, **kwargs):\n",
    "        if None in [self.vertex, self.edge, self.face]:\n",
    "            raise ValueError('No flag has been started in \"{}\"'.format(self))\n",
    "        return func(self, *args, **kwargs)\n",
    "    return _wrapped\n",
    "\n",
    "\n",
    "@contextmanager\n",
    "def showing(artist):\n",
    "    \"\"\"Context manager which displays the SVGArtist upon exit.\"\"\"\n",
    "    try:\n",
    "        yield\n",
    "    finally:\n",
    "        artist.show()\n",
    "\n",
    "\n",
    "class SVGArtist(object):\n",
    "    \"\"\"\n",
    "    Represent an SVG graph.\n",
    "    \n",
    "    Knows how to draw flags moving around on the graph, and also\n",
    "    knows about how the primitive mirrors swap facets.\n",
    "    \"\"\"\n",
    "\n",
    "    def __init__(self, svg_file, faces):\n",
    "        self.path = svg_file\n",
    "        self.faces = faces\n",
    "        self.svg = \"\"\n",
    "        self.vertex = None\n",
    "        self.edge = None\n",
    "        self.face = None\n",
    "        self.reload()\n",
    "\n",
    "    def reload(self):\n",
    "        with open(self.path, 'r') as f:\n",
    "            self.svg = f.read()\n",
    "  \n",
    "    def activate_vertex(self, i):\n",
    "        self.vertex = i\n",
    "        self.svg = (xml_dict_iso & lens_vertex(i) & vertex_style).set(active_color)(self.svg)\n",
    "        \n",
    "    def deactivate_vertex(self, i):\n",
    "        self.vertex = None\n",
    "        self.svg = (xml_dict_iso & lens_vertex(i) & vertex_style).set(vertex_inactive_color)(self.svg)\n",
    "\n",
    "    def activate_edge(self, i, j):\n",
    "        self.edge = (i, j)\n",
    "        self.svg = (xml_dict_iso & lens_edge(i, j) & edge_style).set(active_color)(self.svg)\n",
    "\n",
    "    def deactivate_edge(self, i, j):\n",
    "        self.edge = None\n",
    "        self.svg = (xml_dict_iso & lens_edge(i, j) & edge_style).set(edge_inactive_color)(self.svg)\n",
    "\n",
    "    def activate_face(self, *vertices):\n",
    "        self.face = vertices\n",
    "        self.svg = (xml_dict_iso & lens_face(*vertices) & face_style).set(active_color)(self.svg)\n",
    "        \n",
    "    def deactivate_face(self, *vertices):\n",
    "        self.face = None\n",
    "        self.svg = (xml_dict_iso & lens_face(*vertices) & face_style).set(face_inactive_color)(self.svg)\n",
    "        \n",
    "    def default_start(self):\n",
    "        face = self.faces[0]\n",
    "        self.activate_vertex(face[0])\n",
    "        self.activate_edge(face[0], face[1])\n",
    "        self.activate_face(*face)\n",
    "    \n",
    "    @require_started\n",
    "    def vertex_swap(self):\n",
    "        vertex = next(i for i in self.edge if i != self.vertex)\n",
    "        self.deactivate_vertex(self.vertex)\n",
    "        self.activate_vertex(vertex)\n",
    "\n",
    "    @require_started\n",
    "    def edge_swap(self):\n",
    "        vertex_pos = self.face.index(self.vertex)\n",
    "        other_vertex_right = self.face[(vertex_pos + 1) % len(self.face)]\n",
    "        other_vertex_left = self.face[(vertex_pos - 1) % len(self.face)]\n",
    "        inactive_vertex = next(v for v in self.edge if v != self.vertex)\n",
    "        if inactive_vertex == other_vertex_right:\n",
    "            edge = _ms(self.vertex, other_vertex_left)\n",
    "        elif inactive_vertex == other_vertex_left:\n",
    "            edge = _ms(self.vertex, other_vertex_right)\n",
    "        else:\n",
    "            raise ValueError('Edge {} not aligned with vertex {}'.format(self.edge, self.vertex))\n",
    "        self.deactivate_edge(*self.edge)\n",
    "        self.activate_edge(*edge)\n",
    "    \n",
    "    @require_started\n",
    "    def face_swap(self):\n",
    "        face = next(\n",
    "            f for f in self.faces\n",
    "            if (\n",
    "                all(v in f for v in self.edge) and\n",
    "                set(f) != set(self.face)\n",
    "            )\n",
    "        )\n",
    "        self.deactivate_face(*self.face)\n",
    "        self.activate_face(*face)\n",
    "        \n",
    "    def show(self):\n",
    "        \"\"\"Display the graph SVG in the IPython notebook.\"\"\"\n",
    "        display(SVG(self.svg))\n",
    "\n",
    "\n",
    "# Instantiate an SVGArtist for the included tetrahedral graph SVG.\n",
    "a = SVGArtist('tetrahedron.svg', faces=[(1, 2, 3), (1, 2, 4), (2, 3, 4), (1, 3, 4)])\n",
    "\n",
    "# And here's one for the cubic graph SVG.\n",
    "b = SVGArtist('cube.svg', faces=[(1, 2, 6, 5), (2, 3, 7, 6), (3, 4, 8, 7), (1, 5, 8, 4), (1, 2, 3, 4), (5, 6, 7, 8)])\n",
    "\n",
    "# The formidable dodecahedron:\n",
    "c = SVGArtist(\n",
    "    'dodecahedron.svg',\n",
    "    faces=[\n",
    "        (1, 9, 15, 14, 10),\n",
    "        (2, 8, 11, 15, 9),\n",
    "        (3, 7, 12, 11, 8),\n",
    "        (4, 6, 13, 12, 7),\n",
    "        (5, 10, 14, 13, 6),\n",
    "        (11, 12, 13, 14, 15),\n",
    "        (3, 17, 18, 4, 7),\n",
    "        (4, 18, 19, 5, 6),\n",
    "        (1, 10, 5, 19, 20),\n",
    "        (1, 9, 2, 16, 20),\n",
    "        (2, 16, 17, 3, 8),\n",
    "    ],\n",
    ")"
   ]
  },
  {
   "cell_type": "code",
   "execution_count": 7,
   "metadata": {
    "scrolled": true
   },
   "outputs": [
    {
     "data": {
      "image/svg+xml": [
       "<svg height=\"100mm\" id=\"svg8\" inkscape:version=\"0.92.2 2405546, 2018-03-11\" sodipodi:docname=\"magma.svg\" version=\"1.1\" viewBox=\"0 0 210 297\" width=\"100mm\" xmlns=\"http://www.w3.org/2000/svg\" xmlns:cc=\"http://creativecommons.org/ns#\" xmlns:dc=\"http://purl.org/dc/elements/1.1/\" xmlns:inkscape=\"http://www.inkscape.org/namespaces/inkscape\" xmlns:rdf=\"http://www.w3.org/1999/02/22-rdf-syntax-ns#\" xmlns:sodipodi=\"http://sodipodi.sourceforge.net/DTD/sodipodi-0.dtd\" xmlns:svg=\"http://www.w3.org/2000/svg\"><defs id=\"defs2\"/><sodipodi:namedview bordercolor=\"#666666\" borderopacity=\"1.0\" id=\"base\" inkscape:current-layer=\"layer1\" inkscape:cx=\"150.41024\" inkscape:cy=\"178.54607\" inkscape:document-units=\"mm\" inkscape:pageopacity=\"0.0\" inkscape:pageshadow=\"2\" inkscape:window-height=\"1058\" inkscape:window-maximized=\"0\" inkscape:window-width=\"1299\" inkscape:window-x=\"0\" inkscape:window-y=\"16\" inkscape:zoom=\"2.2627417\" pagecolor=\"#ffffff\" showgrid=\"false\"/><metadata id=\"metadata5\"><rdf:RDF><cc:Work rdf:about=\"\"><dc:format>image/svg+xml</dc:format><dc:type rdf:resource=\"http://purl.org/dc/dcmitype/StillImage\"/><dc:title/></cc:Work></rdf:RDF></metadata><g id=\"layer1\" inkscape:groupmode=\"layer\" inkscape:label=\"Layer 1\"><ellipse cx=\"103.91759\" cy=\"130.72147\" id=\"face1_2_3\" inkscape:label=\"#path864\" rx=\"34.11306\" ry=\"25.937708\" style=\"color:#000000;clip-rule:nonzero;display:inline;overflow:visible;visibility:visible;opacity:1;isolation:auto;mix-blend-mode:normal;color-interpolation:sRGB;color-interpolation-filters:linearRGB;solid-color:#000000;solid-opacity:1;vector-effect:none;fill:#dd2a2b;fill-opacity:1;fill-rule:evenodd;stroke:#ffffff;stroke-width:1.41111112;stroke-linecap:butt;stroke-linejoin:miter;stroke-miterlimit:4;stroke-dasharray:none;stroke-dashoffset:0;stroke-opacity:1;color-rendering:auto;image-rendering:auto;shape-rendering:auto;text-rendering:auto;enable-background:accumulate\"/><ellipse cx=\"101.48661\" cy=\"171.7009\" id=\"face1_2_4\" inkscape:label=\"#path864\" rx=\"20.221727\" ry=\"15.308036\" style=\"color:#000000;clip-rule:nonzero;display:inline;overflow:visible;visibility:visible;opacity:1;isolation:auto;mix-blend-mode:normal;color-interpolation:sRGB;color-interpolation-filters:linearRGB;solid-color:#000000;solid-opacity:1;vector-effect:none;fill:#ffffff;fill-opacity:1;fill-rule:evenodd;stroke:#ffffff;stroke-width:1.41111112;stroke-linecap:butt;stroke-linejoin:miter;stroke-miterlimit:4;stroke-dasharray:none;stroke-dashoffset:0;stroke-opacity:1;color-rendering:auto;image-rendering:auto;shape-rendering:auto;text-rendering:auto;enable-background:accumulate\"/><ellipse cx=\"-160.59801\" cy=\"-44.684978\" id=\"face2_3_4\" inkscape:label=\"#ellipse868\" rx=\"20.221727\" ry=\"15.308036\" style=\"color:#000000;clip-rule:nonzero;display:inline;overflow:visible;visibility:visible;opacity:1;isolation:auto;mix-blend-mode:normal;color-interpolation:sRGB;color-interpolation-filters:linearRGB;solid-color:#000000;solid-opacity:1;vector-effect:none;fill:none;fill-opacity:1;fill-rule:evenodd;stroke:none;stroke-width:1.41111112;stroke-linecap:butt;stroke-linejoin:miter;stroke-miterlimit:4;stroke-dasharray:none;stroke-dashoffset:0;stroke-opacity:1;color-rendering:auto;image-rendering:auto;shape-rendering:auto;text-rendering:auto;enable-background:accumulate\" transform=\"matrix(-0.55888801,-0.82924314,-0.82924314,0.55888801,0,0)\"/><ellipse cx=\"-46.933723\" cy=\"126.66819\" id=\"face1_3_4\" inkscape:label=\"#ellipse866\" rx=\"20.221727\" ry=\"15.308036\" style=\"color:#000000;clip-rule:nonzero;display:inline;overflow:visible;visibility:visible;opacity:1;isolation:auto;mix-blend-mode:normal;color-interpolation:sRGB;color-interpolation-filters:linearRGB;solid-color:#000000;solid-opacity:1;vector-effect:none;fill:none;fill-opacity:1;fill-rule:evenodd;stroke:none;stroke-width:1.41111112;stroke-linecap:butt;stroke-linejoin:miter;stroke-miterlimit:4;stroke-dasharray:none;stroke-dashoffset:0;stroke-opacity:1;color-rendering:auto;image-rendering:auto;shape-rendering:auto;text-rendering:auto;enable-background:accumulate\" transform=\"rotate(-56.021069)\"/><ellipse cx=\"103.32647\" cy=\"130.43764\" id=\"vertex4\" inkscape:label=\"#circle821\" rx=\"13.856075\" ry=\"13.855251\" style=\"color:#000000;clip-rule:nonzero;display:inline;overflow:visible;visibility:visible;opacity:1;isolation:auto;mix-blend-mode:normal;color-interpolation:sRGB;color-interpolation-filters:linearRGB;solid-color:#000000;solid-opacity:1;vector-effect:none;fill:#ffffff;fill-opacity:1;fill-rule:evenodd;stroke:#000000;stroke-width:1.41111112;stroke-linecap:butt;stroke-linejoin:miter;stroke-miterlimit:4;stroke-dasharray:none;stroke-dashoffset:0;stroke-opacity:1;color-rendering:auto;image-rendering:auto;shape-rendering:auto;text-rendering:auto;enable-background:accumulate\"/><ellipse cx=\"17.110876\" cy=\"192.78627\" id=\"vertex1\" inkscape:label=\"#circle823\" rx=\"13.856075\" ry=\"13.855251\" style=\"color:#000000;clip-rule:nonzero;display:inline;overflow:visible;visibility:visible;opacity:1;isolation:auto;mix-blend-mode:normal;color-interpolation:sRGB;color-interpolation-filters:linearRGB;solid-color:#000000;solid-opacity:1;vector-effect:none;fill:#dd2a2b;fill-opacity:1;fill-rule:evenodd;stroke:#000000;stroke-width:1.41111112;stroke-linecap:butt;stroke-linejoin:miter;stroke-miterlimit:4;stroke-dasharray:none;stroke-dashoffset:0;stroke-opacity:1;color-rendering:auto;image-rendering:auto;shape-rendering:auto;text-rendering:auto;enable-background:accumulate\"/><ellipse cx=\"187.61758\" cy=\"195.48033\" id=\"vertex2\" inkscape:label=\"#circle825\" rx=\"13.856075\" ry=\"13.855251\" style=\"color:#000000;clip-rule:nonzero;display:inline;overflow:visible;visibility:visible;opacity:1;isolation:auto;mix-blend-mode:normal;color-interpolation:sRGB;color-interpolation-filters:linearRGB;solid-color:#000000;solid-opacity:1;vector-effect:none;fill:#ffffff;fill-opacity:1;fill-rule:evenodd;stroke:#000000;stroke-width:1.41111112;stroke-linecap:butt;stroke-linejoin:miter;stroke-miterlimit:4;stroke-dasharray:none;stroke-dashoffset:0;stroke-opacity:1;color-rendering:auto;image-rendering:auto;shape-rendering:auto;text-rendering:auto;enable-background:accumulate\"/><ellipse cx=\"101.05169\" cy=\"23.197268\" id=\"vertex3\" inkscape:label=\"#path819\" rx=\"13.856075\" ry=\"13.855251\" style=\"color:#000000;clip-rule:nonzero;display:inline;overflow:visible;visibility:visible;opacity:1;isolation:auto;mix-blend-mode:normal;color-interpolation:sRGB;color-interpolation-filters:linearRGB;solid-color:#000000;solid-opacity:1;vector-effect:none;fill:#ffffff;fill-opacity:1;fill-rule:evenodd;stroke:#000000;stroke-width:1.41111112;stroke-linecap:butt;stroke-linejoin:miter;stroke-miterlimit:4;stroke-dasharray:none;stroke-dashoffset:0;stroke-opacity:1;color-rendering:auto;image-rendering:auto;shape-rendering:auto;text-rendering:auto;enable-background:accumulate\"/><path d=\"M 174.40071,185.78042 115.15422,140.83213\" id=\"edge2_4\" inkscape:connector-curvature=\"0\" inkscape:connector-type=\"polyline\" inkscape:label=\"#path835\" style=\"fill:none;fill-rule:evenodd;stroke:#000000;stroke-width:1.41111112;stroke-linecap:butt;stroke-linejoin:miter;stroke-miterlimit:4;stroke-dasharray:none;stroke-opacity:1\"/><path d=\"m 102.94157,39.985897 0.3849,73.772003\" id=\"edge3_4\" inkscape:connector-curvature=\"0\" inkscape:connector-type=\"polyline\" inkscape:label=\"#path829\" sodipodi:nodetypes=\"cc\" style=\"fill:none;fill-rule:evenodd;stroke:#000000;stroke-width:1.41111112;stroke-linecap:butt;stroke-linejoin:miter;stroke-miterlimit:4;stroke-dasharray:none;stroke-opacity:1\"/><path d=\"M 90.45181,140.47971 31.027387,183.78605\" id=\"edge1_4\" inkscape:connector-curvature=\"0\" inkscape:connector-type=\"polyline\" inkscape:label=\"#path839\" style=\"fill:none;fill-rule:evenodd;stroke:#000000;stroke-width:1.41111112;stroke-linecap:butt;stroke-linejoin:miter;stroke-miterlimit:4;stroke-dasharray:none;stroke-opacity:1\"/><path d=\"M 91.179238,34.649229 24.358525,178.87263\" id=\"edge1_3\" inkscape:connector-curvature=\"0\" inkscape:connector-type=\"polyline\" inkscape:label=\"#path831\" sodipodi:nodetypes=\"cc\" style=\"fill:none;fill-rule:evenodd;stroke:#000000;stroke-width:1.41111112;stroke-linecap:butt;stroke-linejoin:miter;stroke-miterlimit:4;stroke-dasharray:none;stroke-opacity:1\"/><path d=\"M 32.754079,192.78627 171.6271,195.48034\" id=\"edge1_2\" inkscape:connector-curvature=\"0\" inkscape:connector-type=\"polyline\" inkscape:label=\"#path833\" style=\"fill:none;fill-rule:evenodd;stroke:#dd2a2b;stroke-width:1.41111112;stroke-linecap:butt;stroke-linejoin:miter;stroke-miterlimit:4;stroke-dasharray:none;stroke-opacity:1\"/><path d=\"M 111.93273,35.690059 180.82531,180.61007\" id=\"edge2_3\" inkscape:connector-curvature=\"0\" inkscape:connector-type=\"polyline\" inkscape:label=\"#path831\" sodipodi:nodetypes=\"cc\" style=\"fill:none;fill-rule:evenodd;stroke:#000000;stroke-width:1.41111112;stroke-linecap:butt;stroke-linejoin:miter;stroke-miterlimit:4;stroke-dasharray:none;stroke-opacity:1\"/></g></svg>"
      ],
      "text/plain": [
       "<IPython.core.display.SVG object>"
      ]
     },
     "metadata": {},
     "output_type": "display_data"
    },
    {
     "name": "stdout",
     "output_type": "stream",
     "text": [
      "swap (v/e/f/q=quit): q\n"
     ]
    }
   ],
   "source": [
    "# Interactively allow the user to traverse the graph with mirror\n",
    "# operations.\n",
    "\n",
    "a.default_start()\n",
    "a.show()\n",
    "\n",
    "cmd_map = {\n",
    "    'v': a.vertex_swap,\n",
    "    'e': a.edge_swap,\n",
    "    'f': a.face_swap,\n",
    "}\n",
    "\n",
    "while True:\n",
    "    cmd_string = input('swap (v/e/f/q=quit): ')\n",
    "    if 'q' in cmd_string.lower():\n",
    "        break\n",
    "    cmds = [\n",
    "        cmd_map.get(s, lambda: print('unknown command; doing nothing'))\n",
    "        for s in cmd_string.lower()\n",
    "    ]\n",
    "    with showing(a):\n",
    "        for cmd in cmds:\n",
    "            cmd()"
   ]
  },
  {
   "cell_type": "code",
   "execution_count": 8,
   "metadata": {
    "scrolled": true
   },
   "outputs": [
    {
     "data": {
      "image/svg+xml": [
       "<svg height=\"100mm\" id=\"svg8\" inkscape:version=\"0.92.2 2405546, 2018-03-11\" sodipodi:docname=\"cube.svg\" version=\"1.1\" viewBox=\"0 0 210 297\" width=\"100mm\" xmlns=\"http://www.w3.org/2000/svg\" xmlns:cc=\"http://creativecommons.org/ns#\" xmlns:dc=\"http://purl.org/dc/elements/1.1/\" xmlns:inkscape=\"http://www.inkscape.org/namespaces/inkscape\" xmlns:rdf=\"http://www.w3.org/1999/02/22-rdf-syntax-ns#\" xmlns:sodipodi=\"http://sodipodi.sourceforge.net/DTD/sodipodi-0.dtd\" xmlns:svg=\"http://www.w3.org/2000/svg\"><defs id=\"defs2\"/><sodipodi:namedview bordercolor=\"#666666\" borderopacity=\"1.0\" id=\"base\" inkscape:current-layer=\"layer1\" inkscape:cx=\"88.592004\" inkscape:cy=\"189.91698\" inkscape:document-units=\"mm\" inkscape:pageopacity=\"0.0\" inkscape:pageshadow=\"2\" inkscape:snap-global=\"false\" inkscape:window-height=\"1058\" inkscape:window-maximized=\"0\" inkscape:window-width=\"1914\" inkscape:window-x=\"0\" inkscape:window-y=\"16\" inkscape:zoom=\"1.6\" pagecolor=\"#ffffff\" showgrid=\"false\"/><metadata id=\"metadata5\"><rdf:RDF><cc:Work rdf:about=\"\"><dc:format>image/svg+xml</dc:format><dc:type rdf:resource=\"http://purl.org/dc/dcmitype/StillImage\"/><dc:title/></cc:Work></rdf:RDF></metadata><g id=\"layer1\" inkscape:groupmode=\"layer\" inkscape:label=\"Layer 1\"><ellipse cx=\"105.4157\" cy=\"143.21519\" id=\"face1_2_3_4\" inkscape:label=\"#path864\" rx=\"28.570986\" ry=\"22.183895\" style=\"color:#000000;clip-rule:nonzero;display:inline;overflow:visible;visibility:visible;opacity:1;isolation:auto;mix-blend-mode:normal;color-interpolation:sRGB;color-interpolation-filters:linearRGB;solid-color:#000000;solid-opacity:1;vector-effect:none;fill:#ffffff;fill-opacity:1;fill-rule:evenodd;stroke:none;stroke-width:1.41111112;stroke-linecap:butt;stroke-linejoin:miter;stroke-miterlimit:4;stroke-dasharray:none;stroke-dashoffset:0;stroke-opacity:1;color-rendering:auto;image-rendering:auto;shape-rendering:auto;text-rendering:auto;enable-background:accumulate\"/><ellipse cx=\"104.43343\" cy=\"76.421127\" id=\"face1_2_6_5\" inkscape:label=\"#path864\" rx=\"20.221727\" ry=\"15.308036\" style=\"color:#000000;clip-rule:nonzero;display:inline;overflow:visible;visibility:visible;opacity:1;isolation:auto;mix-blend-mode:normal;color-interpolation:sRGB;color-interpolation-filters:linearRGB;solid-color:#000000;solid-opacity:1;vector-effect:none;fill:#dd2a2b;fill-opacity:1;fill-rule:evenodd;stroke:none;stroke-width:1.41111112;stroke-linecap:butt;stroke-linejoin:miter;stroke-miterlimit:4;stroke-dasharray:none;stroke-dashoffset:0;stroke-opacity:1;color-rendering:auto;image-rendering:auto;shape-rendering:auto;text-rendering:auto;enable-background:accumulate\"/><ellipse cx=\"-86.630798\" cy=\"67.768143\" id=\"face1_3_4\" inkscape:label=\"#ellipse866\" rx=\"20.221727\" ry=\"15.308036\" style=\"color:#000000;clip-rule:nonzero;display:inline;overflow:visible;visibility:visible;opacity:1;isolation:auto;mix-blend-mode:normal;color-interpolation:sRGB;color-interpolation-filters:linearRGB;solid-color:#000000;solid-opacity:1;vector-effect:none;fill:none;fill-opacity:1;fill-rule:evenodd;stroke:none;stroke-width:1.41111112;stroke-linecap:butt;stroke-linejoin:miter;stroke-miterlimit:4;stroke-dasharray:none;stroke-dashoffset:0;stroke-opacity:1;color-rendering:auto;image-rendering:auto;shape-rendering:auto;text-rendering:auto;enable-background:accumulate\" transform=\"rotate(-56.021069)\"/><ellipse cx=\"7.7793531\" cy=\"41.877644\" id=\"vertex1\" inkscape:label=\"#circle821\" rx=\"13.856075\" ry=\"13.855251\" style=\"color:#000000;clip-rule:nonzero;display:inline;overflow:visible;visibility:visible;opacity:1;isolation:auto;mix-blend-mode:normal;color-interpolation:sRGB;color-interpolation-filters:linearRGB;solid-color:#000000;solid-opacity:1;vector-effect:none;fill:#dd2a2b;fill-opacity:1;fill-rule:evenodd;stroke:#000000;stroke-width:1.41111112;stroke-linecap:butt;stroke-linejoin:miter;stroke-miterlimit:4;stroke-dasharray:none;stroke-dashoffset:0;stroke-opacity:1;color-rendering:auto;image-rendering:auto;shape-rendering:auto;text-rendering:auto;enable-background:accumulate\"/><ellipse cx=\"7.7793531\" cy=\"237.71776\" id=\"vertex4\" inkscape:label=\"#circle823\" rx=\"13.856075\" ry=\"13.855251\" style=\"color:#000000;clip-rule:nonzero;display:inline;overflow:visible;visibility:visible;opacity:1;isolation:auto;mix-blend-mode:normal;color-interpolation:sRGB;color-interpolation-filters:linearRGB;solid-color:#000000;solid-opacity:1;vector-effect:none;fill:#ffffff;fill-opacity:1;fill-rule:evenodd;stroke:#000000;stroke-width:1.41111112;stroke-linecap:butt;stroke-linejoin:miter;stroke-miterlimit:4;stroke-dasharray:none;stroke-dashoffset:0;stroke-opacity:1;color-rendering:auto;image-rendering:auto;shape-rendering:auto;text-rendering:auto;enable-background:accumulate\"/><ellipse cx=\"203.62112\" cy=\"237.71776\" id=\"vertex3\" inkscape:label=\"#circle825\" rx=\"13.856075\" ry=\"13.855251\" style=\"color:#000000;clip-rule:nonzero;display:inline;overflow:visible;visibility:visible;opacity:1;isolation:auto;mix-blend-mode:normal;color-interpolation:sRGB;color-interpolation-filters:linearRGB;solid-color:#000000;solid-opacity:1;vector-effect:none;fill:#ffffff;fill-opacity:1;fill-rule:evenodd;stroke:#000000;stroke-width:1.41111112;stroke-linecap:butt;stroke-linejoin:miter;stroke-miterlimit:4;stroke-dasharray:none;stroke-dashoffset:0;stroke-opacity:1;color-rendering:auto;image-rendering:auto;shape-rendering:auto;text-rendering:auto;enable-background:accumulate\"/><ellipse cx=\"203.62112\" cy=\"41.877644\" id=\"vertex2\" inkscape:label=\"#path819\" rx=\"13.856075\" ry=\"13.855251\" style=\"color:#000000;clip-rule:nonzero;display:inline;overflow:visible;visibility:visible;opacity:1;isolation:auto;mix-blend-mode:normal;color-interpolation:sRGB;color-interpolation-filters:linearRGB;solid-color:#000000;solid-opacity:1;vector-effect:none;fill:#ffffff;fill-opacity:1;fill-rule:evenodd;stroke:#000000;stroke-width:1.41111112;stroke-linecap:butt;stroke-linejoin:miter;stroke-miterlimit:4;stroke-dasharray:none;stroke-dashoffset:0;stroke-opacity:1;color-rendering:auto;image-rendering:auto;shape-rendering:auto;text-rendering:auto;enable-background:accumulate\"/><ellipse cx=\"-86.630798\" cy=\"67.768143\" id=\"ellipse847\" inkscape:label=\"#ellipse866\" rx=\"20.221727\" ry=\"15.308036\" style=\"color:#000000;clip-rule:nonzero;display:inline;overflow:visible;visibility:visible;opacity:1;isolation:auto;mix-blend-mode:normal;color-interpolation:sRGB;color-interpolation-filters:linearRGB;solid-color:#000000;solid-opacity:1;vector-effect:none;fill:none;fill-opacity:1;fill-rule:evenodd;stroke:none;stroke-width:1.41111112;stroke-linecap:butt;stroke-linejoin:miter;stroke-miterlimit:4;stroke-dasharray:none;stroke-dashoffset:0;stroke-opacity:1;color-rendering:auto;image-rendering:auto;shape-rendering:auto;text-rendering:auto;enable-background:accumulate\" transform=\"rotate(-56.021069)\"/><ellipse cx=\"-160.37888\" cy=\"-51.773106\" id=\"face2_3_4\" inkscape:label=\"#ellipse868\" rx=\"20.221727\" ry=\"15.308036\" style=\"color:#000000;clip-rule:nonzero;display:inline;overflow:visible;visibility:visible;opacity:1;isolation:auto;mix-blend-mode:normal;color-interpolation:sRGB;color-interpolation-filters:linearRGB;solid-color:#000000;solid-opacity:1;vector-effect:none;fill:none;fill-opacity:1;fill-rule:evenodd;stroke:none;stroke-width:1.41111112;stroke-linecap:butt;stroke-linejoin:miter;stroke-miterlimit:4;stroke-dasharray:none;stroke-dashoffset:0;stroke-opacity:1;color-rendering:auto;image-rendering:auto;shape-rendering:auto;text-rendering:auto;enable-background:accumulate\" transform=\"matrix(-0.55888801,-0.82924314,-0.82924314,0.55888801,0,0)\"/><ellipse cx=\"-160.37888\" cy=\"-51.773106\" id=\"ellipse845\" inkscape:label=\"#ellipse868\" rx=\"20.221727\" ry=\"15.308036\" style=\"color:#000000;clip-rule:nonzero;display:inline;overflow:visible;visibility:visible;opacity:1;isolation:auto;mix-blend-mode:normal;color-interpolation:sRGB;color-interpolation-filters:linearRGB;solid-color:#000000;solid-opacity:1;vector-effect:none;fill:none;fill-opacity:1;fill-rule:evenodd;stroke:none;stroke-width:1.41111112;stroke-linecap:butt;stroke-linejoin:miter;stroke-miterlimit:4;stroke-dasharray:none;stroke-dashoffset:0;stroke-opacity:1;color-rendering:auto;image-rendering:auto;shape-rendering:auto;text-rendering:auto;enable-background:accumulate\" transform=\"matrix(-0.55888801,-0.82924314,-0.82924314,0.55888801,0,0)\"/><ellipse cx=\"70.169792\" cy=\"108.32207\" id=\"vertex5\" inkscape:label=\"#circle821\" rx=\"13.856075\" ry=\"13.855251\" style=\"color:#000000;clip-rule:nonzero;display:inline;overflow:visible;visibility:visible;opacity:1;isolation:auto;mix-blend-mode:normal;color-interpolation:sRGB;color-interpolation-filters:linearRGB;solid-color:#000000;solid-opacity:1;vector-effect:none;fill:#ffffff;fill-opacity:1;fill-rule:evenodd;stroke:#000000;stroke-width:1.41111112;stroke-linecap:butt;stroke-linejoin:miter;stroke-miterlimit:4;stroke-dasharray:none;stroke-dashoffset:0;stroke-opacity:1;color-rendering:auto;image-rendering:auto;shape-rendering:auto;text-rendering:auto;enable-background:accumulate\"/><ellipse cx=\"141.23068\" cy=\"108.32207\" id=\"vertex6\" inkscape:label=\"#path819\" rx=\"13.856075\" ry=\"13.855251\" style=\"color:#000000;clip-rule:nonzero;display:inline;overflow:visible;visibility:visible;opacity:1;isolation:auto;mix-blend-mode:normal;color-interpolation:sRGB;color-interpolation-filters:linearRGB;solid-color:#000000;solid-opacity:1;vector-effect:none;fill:#ffffff;fill-opacity:1;fill-rule:evenodd;stroke:#000000;stroke-width:1.41111112;stroke-linecap:butt;stroke-linejoin:miter;stroke-miterlimit:4;stroke-dasharray:none;stroke-dashoffset:0;stroke-opacity:1;color-rendering:auto;image-rendering:auto;shape-rendering:auto;text-rendering:auto;enable-background:accumulate\"/><ellipse cx=\"-232.24287\" cy=\"-3.3386676\" id=\"ellipse904\" inkscape:label=\"#ellipse868\" rx=\"20.221727\" ry=\"15.308036\" style=\"color:#000000;clip-rule:nonzero;display:inline;overflow:visible;visibility:visible;opacity:1;isolation:auto;mix-blend-mode:normal;color-interpolation:sRGB;color-interpolation-filters:linearRGB;solid-color:#000000;solid-opacity:1;vector-effect:none;fill:none;fill-opacity:1;fill-rule:evenodd;stroke:none;stroke-width:1.41111112;stroke-linecap:butt;stroke-linejoin:miter;stroke-miterlimit:4;stroke-dasharray:none;stroke-dashoffset:0;stroke-opacity:1;color-rendering:auto;image-rendering:auto;shape-rendering:auto;text-rendering:auto;enable-background:accumulate\" transform=\"matrix(-0.55888801,-0.82924314,-0.82924314,0.55888801,0,0)\"/><ellipse cx=\"-232.24287\" cy=\"-3.3386676\" id=\"ellipse906\" inkscape:label=\"#ellipse868\" rx=\"20.221727\" ry=\"15.308036\" style=\"color:#000000;clip-rule:nonzero;display:inline;overflow:visible;visibility:visible;opacity:1;isolation:auto;mix-blend-mode:normal;color-interpolation:sRGB;color-interpolation-filters:linearRGB;solid-color:#000000;solid-opacity:1;vector-effect:none;fill:none;fill-opacity:1;fill-rule:evenodd;stroke:none;stroke-width:1.41111112;stroke-linecap:butt;stroke-linejoin:miter;stroke-miterlimit:4;stroke-dasharray:none;stroke-dashoffset:0;stroke-opacity:1;color-rendering:auto;image-rendering:auto;shape-rendering:auto;text-rendering:auto;enable-background:accumulate\" transform=\"matrix(-0.55888801,-0.82924314,-0.82924314,0.55888801,0,0)\"/><ellipse cx=\"70.169792\" cy=\"179.38615\" id=\"vertex8\" inkscape:label=\"#circle821\" rx=\"13.856075\" ry=\"13.855251\" style=\"color:#000000;clip-rule:nonzero;display:inline;overflow:visible;visibility:visible;opacity:1;isolation:auto;mix-blend-mode:normal;color-interpolation:sRGB;color-interpolation-filters:linearRGB;solid-color:#000000;solid-opacity:1;vector-effect:none;fill:#ffffff;fill-opacity:1;fill-rule:evenodd;stroke:#000000;stroke-width:1.41111112;stroke-linecap:butt;stroke-linejoin:miter;stroke-miterlimit:4;stroke-dasharray:none;stroke-dashoffset:0;stroke-opacity:1;color-rendering:auto;image-rendering:auto;shape-rendering:auto;text-rendering:auto;enable-background:accumulate\"/><ellipse cx=\"141.23068\" cy=\"179.38615\" id=\"vertex7\" inkscape:label=\"#path819\" rx=\"13.856075\" ry=\"13.855251\" style=\"color:#000000;clip-rule:nonzero;display:inline;overflow:visible;visibility:visible;opacity:1;isolation:auto;mix-blend-mode:normal;color-interpolation:sRGB;color-interpolation-filters:linearRGB;solid-color:#000000;solid-opacity:1;vector-effect:none;fill:#ffffff;fill-opacity:1;fill-rule:evenodd;stroke:#000000;stroke-width:1.41111112;stroke-linecap:butt;stroke-linejoin:miter;stroke-miterlimit:4;stroke-dasharray:none;stroke-dashoffset:0;stroke-opacity:1;color-rendering:auto;image-rendering:auto;shape-rendering:auto;text-rendering:auto;enable-background:accumulate\"/><ellipse cx=\"105.4157\" cy=\"143.21519\" id=\"face5_6_7_8\" inkscape:label=\"#path864\" rx=\"20.221727\" ry=\"15.308036\" style=\"color:#000000;clip-rule:nonzero;display:inline;overflow:visible;visibility:visible;opacity:1;isolation:auto;mix-blend-mode:normal;color-interpolation:sRGB;color-interpolation-filters:linearRGB;solid-color:#000000;solid-opacity:1;vector-effect:none;fill:#ffffff;fill-opacity:1;fill-rule:evenodd;stroke:none;stroke-width:1.41111112;stroke-linecap:butt;stroke-linejoin:miter;stroke-miterlimit:4;stroke-dasharray:none;stroke-dashoffset:0;stroke-opacity:1;color-rendering:auto;image-rendering:auto;shape-rendering:auto;text-rendering:auto;enable-background:accumulate\"/><ellipse cx=\"172.20976\" cy=\"143.21519\" id=\"face2_3_7_6\" inkscape:label=\"#path864\" rx=\"20.221727\" ry=\"15.308036\" style=\"color:#000000;clip-rule:nonzero;display:inline;overflow:visible;visibility:visible;opacity:1;isolation:auto;mix-blend-mode:normal;color-interpolation:sRGB;color-interpolation-filters:linearRGB;solid-color:#000000;solid-opacity:1;vector-effect:none;fill:#ffffff;fill-opacity:1;fill-rule:evenodd;stroke:none;stroke-width:1.41111112;stroke-linecap:butt;stroke-linejoin:miter;stroke-miterlimit:4;stroke-dasharray:none;stroke-dashoffset:0;stroke-opacity:1;color-rendering:auto;image-rendering:auto;shape-rendering:auto;text-rendering:auto;enable-background:accumulate\"/><ellipse cx=\"104.43343\" cy=\"214.42946\" id=\"face3_4_8_7\" inkscape:label=\"#path864\" rx=\"20.221727\" ry=\"15.308036\" style=\"color:#000000;clip-rule:nonzero;display:inline;overflow:visible;visibility:visible;opacity:1;isolation:auto;mix-blend-mode:normal;color-interpolation:sRGB;color-interpolation-filters:linearRGB;solid-color:#000000;solid-opacity:1;vector-effect:none;fill:#ffffff;fill-opacity:1;fill-rule:evenodd;stroke:none;stroke-width:1.41111112;stroke-linecap:butt;stroke-linejoin:miter;stroke-miterlimit:4;stroke-dasharray:none;stroke-dashoffset:0;stroke-opacity:1;color-rendering:auto;image-rendering:auto;shape-rendering:auto;text-rendering:auto;enable-background:accumulate\"/><ellipse cx=\"35.674839\" cy=\"143.21519\" id=\"face1_5_8_4\" inkscape:label=\"#path864\" rx=\"20.221727\" ry=\"15.308036\" style=\"color:#000000;clip-rule:nonzero;display:inline;overflow:visible;visibility:visible;opacity:1;isolation:auto;mix-blend-mode:normal;color-interpolation:sRGB;color-interpolation-filters:linearRGB;solid-color:#000000;solid-opacity:1;vector-effect:none;fill:#ffffff;fill-opacity:1;fill-rule:evenodd;stroke:none;stroke-width:1.41111112;stroke-linecap:butt;stroke-linejoin:miter;stroke-miterlimit:4;stroke-dasharray:none;stroke-dashoffset:0;stroke-opacity:1;color-rendering:auto;image-rendering:auto;shape-rendering:auto;text-rendering:auto;enable-background:accumulate\"/><path d=\"m 203.42867,56.440078 0.3849,166.715242\" id=\"edge2_3\" inkscape:connector-curvature=\"0\" inkscape:connector-type=\"polyline\" inkscape:label=\"#path829\" sodipodi:nodetypes=\"cc\" style=\"fill:none;fill-rule:evenodd;stroke:#000000;stroke-width:1.41111112;stroke-linecap:butt;stroke-linejoin:miter;stroke-miterlimit:4;stroke-dasharray:none;stroke-opacity:1\"/><path d=\"m 7.5869031,56.440078 0.3849,166.715242\" id=\"edge1_4\" inkscape:connector-curvature=\"0\" inkscape:connector-type=\"polyline\" inkscape:label=\"#path829\" sodipodi:nodetypes=\"cc\" style=\"fill:none;fill-rule:evenodd;stroke:#000000;stroke-width:1.41111112;stroke-linecap:butt;stroke-linejoin:miter;stroke-miterlimit:4;stroke-dasharray:none;stroke-opacity:1\"/><path d=\"m 189.05786,237.52531 -166.715247,0.3849\" id=\"edge3_4\" inkscape:connector-curvature=\"0\" inkscape:connector-type=\"polyline\" inkscape:label=\"#path829\" sodipodi:nodetypes=\"cc\" style=\"fill:none;fill-rule:evenodd;stroke:#000000;stroke-width:1.41111112;stroke-linecap:butt;stroke-linejoin:miter;stroke-miterlimit:4;stroke-dasharray:none;stroke-opacity:1\"/><path d=\"m 189.05786,41.685194 -166.715247,0.3849\" id=\"edge1_2\" inkscape:connector-curvature=\"0\" inkscape:connector-type=\"polyline\" inkscape:label=\"#path829\" sodipodi:nodetypes=\"cc\" style=\"fill:none;fill-rule:evenodd;stroke:#dd2a2b;stroke-width:1.41111112;stroke-linecap:butt;stroke-linejoin:miter;stroke-miterlimit:4;stroke-dasharray:none;stroke-opacity:1\"/><path d=\"m 126.66258,108.12962 -41.929529,0.3849\" id=\"edge5_6\" inkscape:connector-curvature=\"0\" inkscape:connector-type=\"polyline\" inkscape:label=\"#path829\" sodipodi:nodetypes=\"cc\" style=\"fill:none;fill-rule:evenodd;stroke:#000000;stroke-width:1.41111112;stroke-linecap:butt;stroke-linejoin:miter;stroke-miterlimit:4;stroke-dasharray:none;stroke-opacity:1\"/><path d=\"m 126.66258,179.19371 -41.929529,0.3849\" id=\"edge7_8\" inkscape:connector-curvature=\"0\" inkscape:connector-type=\"polyline\" inkscape:label=\"#path829\" sodipodi:nodetypes=\"cc\" style=\"fill:none;fill-rule:evenodd;stroke:#000000;stroke-width:1.41111112;stroke-linecap:butt;stroke-linejoin:miter;stroke-miterlimit:4;stroke-dasharray:none;stroke-opacity:1\"/><path d=\"m 69.977342,122.88935 0.3849,41.92952\" id=\"edge5_8\" inkscape:connector-curvature=\"0\" inkscape:connector-type=\"polyline\" inkscape:label=\"#path829\" sodipodi:nodetypes=\"cc\" style=\"fill:none;fill-rule:evenodd;stroke:#000000;stroke-width:1.41111112;stroke-linecap:butt;stroke-linejoin:miter;stroke-miterlimit:4;stroke-dasharray:none;stroke-opacity:1\"/><path d=\"m 141.03823,122.88935 0.3849,41.92952\" id=\"edge6_7\" inkscape:connector-curvature=\"0\" inkscape:connector-type=\"polyline\" inkscape:label=\"#path829\" sodipodi:nodetypes=\"cc\" style=\"fill:none;fill-rule:evenodd;stroke:#000000;stroke-width:1.41111112;stroke-linecap:butt;stroke-linejoin:miter;stroke-miterlimit:4;stroke-dasharray:none;stroke-opacity:1\"/><path d=\"M 195.20723,53.001887 151.10138,97.91633\" id=\"edge2_6\" inkscape:connector-curvature=\"0\" inkscape:connector-type=\"polyline\" inkscape:label=\"#path829\" sodipodi:nodetypes=\"cc\" style=\"fill:none;fill-rule:evenodd;stroke:#000000;stroke-width:1.41111112;stroke-linecap:butt;stroke-linejoin:miter;stroke-miterlimit:4;stroke-dasharray:none;stroke-opacity:1\"/><path d=\"M 59.583461,189.53593 17.441734,228.5556\" id=\"edge4_8\" inkscape:connector-curvature=\"0\" inkscape:connector-type=\"polyline\" inkscape:label=\"#path829\" sodipodi:nodetypes=\"cc\" style=\"fill:none;fill-rule:evenodd;stroke:#000000;stroke-width:1.41111112;stroke-linecap:butt;stroke-linejoin:miter;stroke-miterlimit:4;stroke-dasharray:none;stroke-opacity:1\"/><path d=\"M 60.566163,95.948019 17.441294,53.493861\" id=\"edge1_5\" inkscape:connector-curvature=\"0\" inkscape:connector-type=\"polyline\" inkscape:label=\"#path829\" sodipodi:nodetypes=\"cc\" style=\"fill:none;fill-rule:evenodd;stroke:#000000;stroke-width:1.411111;stroke-linecap:butt;stroke-linejoin:miter;stroke-miterlimit:4;stroke-dasharray:none;stroke-opacity:1\"/><path d=\"M 192.98728,227.21092 152.31865,188.19126\" id=\"edge3_7\" inkscape:connector-curvature=\"0\" inkscape:connector-type=\"polyline\" inkscape:label=\"#path829\" sodipodi:nodetypes=\"cc\" style=\"fill:none;fill-rule:evenodd;stroke:#000000;stroke-width:1.41111112;stroke-linecap:butt;stroke-linejoin:miter;stroke-miterlimit:4;stroke-dasharray:none;stroke-opacity:1\"/></g></svg>"
      ],
      "text/plain": [
       "<IPython.core.display.SVG object>"
      ]
     },
     "metadata": {},
     "output_type": "display_data"
    },
    {
     "name": "stdout",
     "output_type": "stream",
     "text": [
      "swap (v/e/f/q=quit): q\n"
     ]
    }
   ],
   "source": [
    "# Interactively allow the user to traverse the graph with mirror\n",
    "# operations.\n",
    "\n",
    "b.reload()\n",
    "b.default_start()\n",
    "b.show()\n",
    "\n",
    "cmd_map = {\n",
    "    'v': b.vertex_swap,\n",
    "    'e': b.edge_swap,\n",
    "    'f': b.face_swap,\n",
    "}\n",
    "\n",
    "while True:\n",
    "    cmd_string = input('swap (v/e/f/q=quit): ')\n",
    "    if 'q' in cmd_string.lower():\n",
    "        break\n",
    "    cmds = [\n",
    "        cmd_map.get(s, lambda: print('unknown command; doing nothing'))\n",
    "        for s in cmd_string.lower()\n",
    "    ]\n",
    "    with showing(b):\n",
    "        for cmd in cmds:\n",
    "            cmd()"
   ]
  },
  {
   "cell_type": "code",
   "execution_count": 9,
   "metadata": {
    "scrolled": false
   },
   "outputs": [
    {
     "data": {
      "image/svg+xml": [
       "<svg height=\"100mm\" id=\"svg8\" inkscape:version=\"0.92.2 2405546, 2018-03-11\" sodipodi:docname=\"dodecahedron.svg\" version=\"1.1\" viewBox=\"0 0 210 297\" width=\"100mm\" xmlns=\"http://www.w3.org/2000/svg\" xmlns:cc=\"http://creativecommons.org/ns#\" xmlns:dc=\"http://purl.org/dc/elements/1.1/\" xmlns:inkscape=\"http://www.inkscape.org/namespaces/inkscape\" xmlns:rdf=\"http://www.w3.org/1999/02/22-rdf-syntax-ns#\" xmlns:sodipodi=\"http://sodipodi.sourceforge.net/DTD/sodipodi-0.dtd\" xmlns:svg=\"http://www.w3.org/2000/svg\"><defs id=\"defs2\"/><sodipodi:namedview bordercolor=\"#666666\" borderopacity=\"1.0\" id=\"base\" inkscape:current-layer=\"layer1\" inkscape:cx=\"266.42243\" inkscape:cy=\"152.14503\" inkscape:document-units=\"mm\" inkscape:pageopacity=\"0.0\" inkscape:pageshadow=\"2\" inkscape:snap-global=\"false\" inkscape:window-height=\"1038\" inkscape:window-maximized=\"0\" inkscape:window-width=\"1914\" inkscape:window-x=\"0\" inkscape:window-y=\"36\" inkscape:zoom=\"1.1313709\" pagecolor=\"#ffffff\" showgrid=\"false\"/><metadata id=\"metadata5\"><rdf:RDF><cc:Work rdf:about=\"\"><dc:format>image/svg+xml</dc:format><dc:type rdf:resource=\"http://purl.org/dc/dcmitype/StillImage\"/><dc:title/></cc:Work></rdf:RDF></metadata><g id=\"layer1\" inkscape:groupmode=\"layer\" inkscape:label=\"Layer 1\"><ellipse cx=\"65.993057\" cy=\"93.284775\" id=\"face1_9_15_14_10\" inkscape:label=\"#path864\" rx=\"5.9721437\" ry=\"4.5209684\" style=\"color:#000000;clip-rule:nonzero;display:inline;overflow:visible;visibility:visible;opacity:1;isolation:auto;mix-blend-mode:normal;color-interpolation:sRGB;color-interpolation-filters:linearRGB;solid-color:#000000;solid-opacity:1;vector-effect:none;fill:#dd2a2b;fill-opacity:1;fill-rule:evenodd;stroke:none;stroke-width:1.41111112;stroke-linecap:butt;stroke-linejoin:miter;stroke-miterlimit:4;stroke-dasharray:none;stroke-dashoffset:0;stroke-opacity:1;color-rendering:auto;image-rendering:auto;shape-rendering:auto;text-rendering:auto;enable-background:accumulate\"/><ellipse cx=\"44.895123\" cy=\"60.584194\" id=\"vertex1\" inkscape:label=\"#circle821\" rx=\"4.0921569\" ry=\"4.0919132\" style=\"color:#000000;clip-rule:nonzero;display:inline;overflow:visible;visibility:visible;opacity:1;isolation:auto;mix-blend-mode:normal;color-interpolation:sRGB;color-interpolation-filters:linearRGB;solid-color:#000000;solid-opacity:1;vector-effect:none;fill:#dd2a2b;fill-opacity:1;fill-rule:evenodd;stroke:#000000;stroke-width:1.41111112;stroke-linecap:butt;stroke-linejoin:miter;stroke-miterlimit:4;stroke-dasharray:none;stroke-dashoffset:0;stroke-opacity:1;color-rendering:auto;image-rendering:auto;shape-rendering:auto;text-rendering:auto;enable-background:accumulate\"/><ellipse cx=\"158.32245\" cy=\"60.87429\" id=\"vertex2\" inkscape:label=\"#circle821\" rx=\"4.0921569\" ry=\"4.0919132\" style=\"color:#000000;clip-rule:nonzero;display:inline;overflow:visible;visibility:visible;opacity:1;isolation:auto;mix-blend-mode:normal;color-interpolation:sRGB;color-interpolation-filters:linearRGB;solid-color:#000000;solid-opacity:1;vector-effect:none;fill:#ffffff;fill-opacity:1;fill-rule:evenodd;stroke:#000000;stroke-width:1.41111112;stroke-linecap:butt;stroke-linejoin:miter;stroke-miterlimit:4;stroke-dasharray:none;stroke-dashoffset:0;stroke-opacity:1;color-rendering:auto;image-rendering:auto;shape-rendering:auto;text-rendering:auto;enable-background:accumulate\"/><ellipse cx=\"197.19524\" cy=\"170.8205\" id=\"vertex3\" inkscape:label=\"#circle821\" rx=\"4.0921569\" ry=\"4.0919132\" style=\"color:#000000;clip-rule:nonzero;display:inline;overflow:visible;visibility:visible;opacity:1;isolation:auto;mix-blend-mode:normal;color-interpolation:sRGB;color-interpolation-filters:linearRGB;solid-color:#000000;solid-opacity:1;vector-effect:none;fill:#ffffff;fill-opacity:1;fill-rule:evenodd;stroke:#000000;stroke-width:1.41111112;stroke-linecap:butt;stroke-linejoin:miter;stroke-miterlimit:4;stroke-dasharray:none;stroke-dashoffset:0;stroke-opacity:1;color-rendering:auto;image-rendering:auto;shape-rendering:auto;text-rendering:auto;enable-background:accumulate\"/><ellipse cx=\"102.62411\" cy=\"237.48442\" id=\"vertex4\" inkscape:label=\"#circle821\" rx=\"4.0921569\" ry=\"4.0919132\" style=\"color:#000000;clip-rule:nonzero;display:inline;overflow:visible;visibility:visible;opacity:1;isolation:auto;mix-blend-mode:normal;color-interpolation:sRGB;color-interpolation-filters:linearRGB;solid-color:#000000;solid-opacity:1;vector-effect:none;fill:#ffffff;fill-opacity:1;fill-rule:evenodd;stroke:#000000;stroke-width:1.41111112;stroke-linecap:butt;stroke-linejoin:miter;stroke-miterlimit:4;stroke-dasharray:none;stroke-dashoffset:0;stroke-opacity:1;color-rendering:auto;image-rendering:auto;shape-rendering:auto;text-rendering:auto;enable-background:accumulate\"/><ellipse cx=\"10.083663\" cy=\"170.8205\" id=\"vertex5\" inkscape:label=\"#circle821\" rx=\"4.0921569\" ry=\"4.0919132\" style=\"color:#000000;clip-rule:nonzero;display:inline;overflow:visible;visibility:visible;opacity:1;isolation:auto;mix-blend-mode:normal;color-interpolation:sRGB;color-interpolation-filters:linearRGB;solid-color:#000000;solid-opacity:1;vector-effect:none;fill:#ffffff;fill-opacity:1;fill-rule:evenodd;stroke:#000000;stroke-width:1.41111112;stroke-linecap:butt;stroke-linejoin:miter;stroke-miterlimit:4;stroke-dasharray:none;stroke-dashoffset:0;stroke-opacity:1;color-rendering:auto;image-rendering:auto;shape-rendering:auto;text-rendering:auto;enable-background:accumulate\"/><ellipse cx=\"70.568565\" cy=\"189.6767\" id=\"vertex6\" inkscape:label=\"#circle821\" rx=\"4.0921569\" ry=\"4.0919132\" style=\"color:#000000;clip-rule:nonzero;display:inline;overflow:visible;visibility:visible;opacity:1;isolation:auto;mix-blend-mode:normal;color-interpolation:sRGB;color-interpolation-filters:linearRGB;solid-color:#000000;solid-opacity:1;vector-effect:none;fill:#ffffff;fill-opacity:1;fill-rule:evenodd;stroke:#000000;stroke-width:1.41111112;stroke-linecap:butt;stroke-linejoin:miter;stroke-miterlimit:4;stroke-dasharray:none;stroke-dashoffset:0;stroke-opacity:1;color-rendering:auto;image-rendering:auto;shape-rendering:auto;text-rendering:auto;enable-background:accumulate\"/><ellipse cx=\"135.40492\" cy=\"189.6767\" id=\"vertex7\" inkscape:label=\"#circle821\" rx=\"4.0921569\" ry=\"4.0919132\" style=\"color:#000000;clip-rule:nonzero;display:inline;overflow:visible;visibility:visible;opacity:1;isolation:auto;mix-blend-mode:normal;color-interpolation:sRGB;color-interpolation-filters:linearRGB;solid-color:#000000;solid-opacity:1;vector-effect:none;fill:#ffffff;fill-opacity:1;fill-rule:evenodd;stroke:#000000;stroke-width:1.41111112;stroke-linecap:butt;stroke-linejoin:miter;stroke-miterlimit:4;stroke-dasharray:none;stroke-dashoffset:0;stroke-opacity:1;color-rendering:auto;image-rendering:auto;shape-rendering:auto;text-rendering:auto;enable-background:accumulate\"/><ellipse cx=\"156.34981\" cy=\"125.56558\" id=\"vertex8\" inkscape:label=\"#circle821\" rx=\"4.0921569\" ry=\"4.0919132\" style=\"color:#000000;clip-rule:nonzero;display:inline;overflow:visible;visibility:visible;opacity:1;isolation:auto;mix-blend-mode:normal;color-interpolation:sRGB;color-interpolation-filters:linearRGB;solid-color:#000000;solid-opacity:1;vector-effect:none;fill:#ffffff;fill-opacity:1;fill-rule:evenodd;stroke:#000000;stroke-width:1.41111112;stroke-linecap:butt;stroke-linejoin:miter;stroke-miterlimit:4;stroke-dasharray:none;stroke-dashoffset:0;stroke-opacity:1;color-rendering:auto;image-rendering:auto;shape-rendering:auto;text-rendering:auto;enable-background:accumulate\"/><ellipse cx=\"102.62411\" cy=\"89.593742\" id=\"vertex9\" inkscape:label=\"#circle821\" rx=\"4.0921569\" ry=\"4.0919132\" style=\"color:#000000;clip-rule:nonzero;display:inline;overflow:visible;visibility:visible;opacity:1;isolation:auto;mix-blend-mode:normal;color-interpolation:sRGB;color-interpolation-filters:linearRGB;solid-color:#000000;solid-opacity:1;vector-effect:none;fill:#ffffff;fill-opacity:1;fill-rule:evenodd;stroke:#000000;stroke-width:1.41111112;stroke-linecap:butt;stroke-linejoin:miter;stroke-miterlimit:4;stroke-dasharray:none;stroke-dashoffset:0;stroke-opacity:1;color-rendering:auto;image-rendering:auto;shape-rendering:auto;text-rendering:auto;enable-background:accumulate\"/><ellipse cx=\"50.697029\" cy=\"124.11511\" id=\"vertex10\" inkscape:label=\"#circle821\" rx=\"4.0921569\" ry=\"4.0919132\" style=\"color:#000000;clip-rule:nonzero;display:inline;overflow:visible;visibility:visible;opacity:1;isolation:auto;mix-blend-mode:normal;color-interpolation:sRGB;color-interpolation-filters:linearRGB;solid-color:#000000;solid-opacity:1;vector-effect:none;fill:#ffffff;fill-opacity:1;fill-rule:evenodd;stroke:#000000;stroke-width:1.41111112;stroke-linecap:butt;stroke-linejoin:miter;stroke-miterlimit:4;stroke-dasharray:none;stroke-dashoffset:0;stroke-opacity:1;color-rendering:auto;image-rendering:auto;shape-rendering:auto;text-rendering:auto;enable-background:accumulate\"/><ellipse cx=\"124.67139\" cy=\"137.1694\" id=\"vertex11\" inkscape:label=\"#circle821\" rx=\"4.0921569\" ry=\"4.0919132\" style=\"color:#000000;clip-rule:nonzero;display:inline;overflow:visible;visibility:visible;opacity:1;isolation:auto;mix-blend-mode:normal;color-interpolation:sRGB;color-interpolation-filters:linearRGB;solid-color:#000000;solid-opacity:1;vector-effect:none;fill:#ffffff;fill-opacity:1;fill-rule:evenodd;stroke:#000000;stroke-width:1.41111112;stroke-linecap:butt;stroke-linejoin:miter;stroke-miterlimit:4;stroke-dasharray:none;stroke-dashoffset:0;stroke-opacity:1;color-rendering:auto;image-rendering:auto;shape-rendering:auto;text-rendering:auto;enable-background:accumulate\"/><ellipse cx=\"116.8388\" cy=\"162.9879\" id=\"vertex12\" inkscape:label=\"#circle821\" rx=\"4.0921569\" ry=\"4.0919132\" style=\"color:#000000;clip-rule:nonzero;display:inline;overflow:visible;visibility:visible;opacity:1;isolation:auto;mix-blend-mode:normal;color-interpolation:sRGB;color-interpolation-filters:linearRGB;solid-color:#000000;solid-opacity:1;vector-effect:none;fill:#ffffff;fill-opacity:1;fill-rule:evenodd;stroke:#000000;stroke-width:1.41111112;stroke-linecap:butt;stroke-linejoin:miter;stroke-miterlimit:4;stroke-dasharray:none;stroke-dashoffset:0;stroke-opacity:1;color-rendering:auto;image-rendering:auto;shape-rendering:auto;text-rendering:auto;enable-background:accumulate\"/><ellipse cx=\"89.569824\" cy=\"162.6978\" id=\"vertex13\" inkscape:label=\"#circle821\" rx=\"4.0921569\" ry=\"4.0919132\" style=\"color:#000000;clip-rule:nonzero;display:inline;overflow:visible;visibility:visible;opacity:1;isolation:auto;mix-blend-mode:normal;color-interpolation:sRGB;color-interpolation-filters:linearRGB;solid-color:#000000;solid-opacity:1;vector-effect:none;fill:#ffffff;fill-opacity:1;fill-rule:evenodd;stroke:#000000;stroke-width:1.41111112;stroke-linecap:butt;stroke-linejoin:miter;stroke-miterlimit:4;stroke-dasharray:none;stroke-dashoffset:0;stroke-opacity:1;color-rendering:auto;image-rendering:auto;shape-rendering:auto;text-rendering:auto;enable-background:accumulate\"/><ellipse cx=\"81.157051\" cy=\"138.03969\" id=\"vertex14\" inkscape:label=\"#circle821\" rx=\"4.0921569\" ry=\"4.0919132\" style=\"color:#000000;clip-rule:nonzero;display:inline;overflow:visible;visibility:visible;opacity:1;isolation:auto;mix-blend-mode:normal;color-interpolation:sRGB;color-interpolation-filters:linearRGB;solid-color:#000000;solid-opacity:1;vector-effect:none;fill:#ffffff;fill-opacity:1;fill-rule:evenodd;stroke:#000000;stroke-width:1.41111112;stroke-linecap:butt;stroke-linejoin:miter;stroke-miterlimit:4;stroke-dasharray:none;stroke-dashoffset:0;stroke-opacity:1;color-rendering:auto;image-rendering:auto;shape-rendering:auto;text-rendering:auto;enable-background:accumulate\"/><ellipse cx=\"102.62411\" cy=\"121.79435\" id=\"vertex15\" inkscape:label=\"#circle821\" rx=\"4.0921569\" ry=\"4.0919132\" style=\"color:#000000;clip-rule:nonzero;display:inline;overflow:visible;visibility:visible;opacity:1;isolation:auto;mix-blend-mode:normal;color-interpolation:sRGB;color-interpolation-filters:linearRGB;solid-color:#000000;solid-opacity:1;vector-effect:none;fill:#ffffff;fill-opacity:1;fill-rule:evenodd;stroke:#000000;stroke-width:1.41111112;stroke-linecap:butt;stroke-linejoin:miter;stroke-miterlimit:4;stroke-dasharray:none;stroke-dashoffset:0;stroke-opacity:1;color-rendering:auto;image-rendering:auto;shape-rendering:auto;text-rendering:auto;enable-background:accumulate\"/><ellipse cx=\"133.05489\" cy=\"91.962997\" id=\"face2_8_11_15_9\" inkscape:label=\"#path864\" rx=\"5.9721437\" ry=\"4.5209684\" style=\"color:#000000;clip-rule:nonzero;display:inline;overflow:visible;visibility:visible;opacity:1;isolation:auto;mix-blend-mode:normal;color-interpolation:sRGB;color-interpolation-filters:linearRGB;solid-color:#000000;solid-opacity:1;vector-effect:none;fill:#ffffff;fill-opacity:1;fill-rule:evenodd;stroke:none;stroke-width:1.41111112;stroke-linecap:butt;stroke-linejoin:miter;stroke-miterlimit:4;stroke-dasharray:none;stroke-dashoffset:0;stroke-opacity:1;color-rendering:auto;image-rendering:auto;shape-rendering:auto;text-rendering:auto;enable-background:accumulate\"/><ellipse cx=\"160.32387\" cy=\"160.71564\" id=\"face3_7_12_11_8\" inkscape:label=\"#path864\" rx=\"5.9721437\" ry=\"4.5209684\" style=\"color:#000000;clip-rule:nonzero;display:inline;overflow:visible;visibility:visible;opacity:1;isolation:auto;mix-blend-mode:normal;color-interpolation:sRGB;color-interpolation-filters:linearRGB;solid-color:#000000;solid-opacity:1;vector-effect:none;fill:#ffffff;fill-opacity:1;fill-rule:evenodd;stroke:none;stroke-width:1.41111112;stroke-linecap:butt;stroke-linejoin:miter;stroke-miterlimit:4;stroke-dasharray:none;stroke-dashoffset:0;stroke-opacity:1;color-rendering:auto;image-rendering:auto;shape-rendering:auto;text-rendering:auto;enable-background:accumulate\"/><ellipse cx=\"102.59486\" cy=\"198.13794\" id=\"face4_6_13_12_7\" inkscape:label=\"#path864\" rx=\"5.9721437\" ry=\"4.5209684\" style=\"color:#000000;clip-rule:nonzero;display:inline;overflow:visible;visibility:visible;opacity:1;isolation:auto;mix-blend-mode:normal;color-interpolation:sRGB;color-interpolation-filters:linearRGB;solid-color:#000000;solid-opacity:1;vector-effect:none;fill:#ffffff;fill-opacity:1;fill-rule:evenodd;stroke:none;stroke-width:1.41111112;stroke-linecap:butt;stroke-linejoin:miter;stroke-miterlimit:4;stroke-dasharray:none;stroke-dashoffset:0;stroke-opacity:1;color-rendering:auto;image-rendering:auto;shape-rendering:auto;text-rendering:auto;enable-background:accumulate\"/><ellipse cx=\"48.056911\" cy=\"159.55524\" id=\"face5_10_14_13_6\" inkscape:label=\"#path864\" rx=\"5.9721437\" ry=\"4.5209684\" style=\"color:#000000;clip-rule:nonzero;display:inline;overflow:visible;visibility:visible;opacity:1;isolation:auto;mix-blend-mode:normal;color-interpolation:sRGB;color-interpolation-filters:linearRGB;solid-color:#000000;solid-opacity:1;vector-effect:none;fill:#ffffff;fill-opacity:1;fill-rule:evenodd;stroke:none;stroke-width:1.41111112;stroke-linecap:butt;stroke-linejoin:miter;stroke-miterlimit:4;stroke-dasharray:none;stroke-dashoffset:0;stroke-opacity:1;color-rendering:auto;image-rendering:auto;shape-rendering:auto;text-rendering:auto;enable-background:accumulate\"/><ellipse cx=\"102.59486\" cy=\"145.05048\" id=\"face11_12_13_14_15\" inkscape:label=\"#path864\" rx=\"5.9721437\" ry=\"4.5209684\" style=\"color:#000000;clip-rule:nonzero;display:inline;overflow:visible;visibility:visible;opacity:1;isolation:auto;mix-blend-mode:normal;color-interpolation:sRGB;color-interpolation-filters:linearRGB;solid-color:#000000;solid-opacity:1;vector-effect:none;fill:#ffffff;fill-opacity:1;fill-rule:evenodd;stroke:none;stroke-width:1.41111112;stroke-linecap:butt;stroke-linejoin:miter;stroke-miterlimit:4;stroke-dasharray:none;stroke-dashoffset:0;stroke-opacity:1;color-rendering:auto;image-rendering:auto;shape-rendering:auto;text-rendering:auto;enable-background:accumulate\"/><ellipse cx=\"180.24232\" cy=\"25.530882\" id=\"vertex16\" inkscape:label=\"#circle821\" rx=\"4.1496916\" ry=\"4.1494522\" style=\"color:#000000;clip-rule:nonzero;display:inline;overflow:visible;visibility:visible;opacity:1;isolation:auto;mix-blend-mode:normal;color-interpolation:sRGB;color-interpolation-filters:linearRGB;solid-color:#000000;solid-opacity:1;vector-effect:none;fill:#ffffff;fill-opacity:1;fill-rule:evenodd;stroke:#000000;stroke-width:1.41111112;stroke-linecap:butt;stroke-linejoin:miter;stroke-miterlimit:4;stroke-dasharray:none;stroke-dashoffset:0;stroke-opacity:1;color-rendering:auto;image-rendering:auto;shape-rendering:auto;text-rendering:auto;enable-background:accumulate\"/><ellipse cx=\"234.69742\" cy=\"179.55457\" id=\"vertex17\" inkscape:label=\"#circle821\" rx=\"4.1496916\" ry=\"4.1494522\" style=\"color:#000000;clip-rule:nonzero;display:inline;overflow:visible;visibility:visible;opacity:1;isolation:auto;mix-blend-mode:normal;color-interpolation:sRGB;color-interpolation-filters:linearRGB;solid-color:#000000;solid-opacity:1;vector-effect:none;fill:#ffffff;fill-opacity:1;fill-rule:evenodd;stroke:#000000;stroke-width:1.41111112;stroke-linecap:butt;stroke-linejoin:miter;stroke-miterlimit:4;stroke-dasharray:none;stroke-dashoffset:0;stroke-opacity:1;color-rendering:auto;image-rendering:auto;shape-rendering:auto;text-rendering:auto;enable-background:accumulate\"/><ellipse cx=\"102.21712\" cy=\"272.94412\" id=\"vertex18\" inkscape:label=\"#circle821\" rx=\"4.1496916\" ry=\"4.1494522\" style=\"color:#000000;clip-rule:nonzero;display:inline;overflow:visible;visibility:visible;opacity:1;isolation:auto;mix-blend-mode:normal;color-interpolation:sRGB;color-interpolation-filters:linearRGB;solid-color:#000000;solid-opacity:1;vector-effect:none;fill:#ffffff;fill-opacity:1;fill-rule:evenodd;stroke:#000000;stroke-width:1.41111112;stroke-linecap:butt;stroke-linejoin:miter;stroke-miterlimit:4;stroke-dasharray:none;stroke-dashoffset:0;stroke-opacity:1;color-rendering:auto;image-rendering:auto;shape-rendering:auto;text-rendering:auto;enable-background:accumulate\"/><ellipse cx=\"-27.418507\" cy=\"179.55457\" id=\"vertex19\" inkscape:label=\"#circle821\" rx=\"4.1496916\" ry=\"4.1494522\" style=\"color:#000000;clip-rule:nonzero;display:inline;overflow:visible;visibility:visible;opacity:1;isolation:auto;mix-blend-mode:normal;color-interpolation:sRGB;color-interpolation-filters:linearRGB;solid-color:#000000;solid-opacity:1;vector-effect:none;fill:#ffffff;fill-opacity:1;fill-rule:evenodd;stroke:#000000;stroke-width:1.41111112;stroke-linecap:butt;stroke-linejoin:miter;stroke-miterlimit:4;stroke-dasharray:none;stroke-dashoffset:0;stroke-opacity:1;color-rendering:auto;image-rendering:auto;shape-rendering:auto;text-rendering:auto;enable-background:accumulate\"/><ellipse cx=\"165.36418\" cy=\"205.93282\" id=\"face3_17_18_4_7\" inkscape:label=\"#path864\" rx=\"5.9721437\" ry=\"4.5209684\" style=\"color:#000000;clip-rule:nonzero;display:inline;overflow:visible;visibility:visible;opacity:1;isolation:auto;mix-blend-mode:normal;color-interpolation:sRGB;color-interpolation-filters:linearRGB;solid-color:#000000;solid-opacity:1;vector-effect:none;fill:#ffffff;fill-opacity:1;fill-rule:evenodd;stroke:none;stroke-width:1.41111112;stroke-linecap:butt;stroke-linejoin:miter;stroke-miterlimit:4;stroke-dasharray:none;stroke-dashoffset:0;stroke-opacity:1;color-rendering:auto;image-rendering:auto;shape-rendering:auto;text-rendering:auto;enable-background:accumulate\"/><ellipse cx=\"54.184544\" cy=\"212.49693\" id=\"face4_18_19_5_6\" inkscape:label=\"#path864\" rx=\"5.9721437\" ry=\"4.5209684\" style=\"color:#000000;clip-rule:nonzero;display:inline;overflow:visible;visibility:visible;opacity:1;isolation:auto;mix-blend-mode:normal;color-interpolation:sRGB;color-interpolation-filters:linearRGB;solid-color:#000000;solid-opacity:1;vector-effect:none;fill:#ffffff;fill-opacity:1;fill-rule:evenodd;stroke:none;stroke-width:1.41111112;stroke-linecap:butt;stroke-linejoin:miter;stroke-miterlimit:4;stroke-dasharray:none;stroke-dashoffset:0;stroke-opacity:1;color-rendering:auto;image-rendering:auto;shape-rendering:auto;text-rendering:auto;enable-background:accumulate\"/><ellipse cx=\"18.081934\" cy=\"117.72757\" id=\"face1_10_5_19_20\" inkscape:label=\"#path864\" rx=\"5.9721437\" ry=\"4.5209684\" style=\"color:#000000;clip-rule:nonzero;display:inline;overflow:visible;visibility:visible;opacity:1;isolation:auto;mix-blend-mode:normal;color-interpolation:sRGB;color-interpolation-filters:linearRGB;solid-color:#000000;solid-opacity:1;vector-effect:none;fill:#ffffff;fill-opacity:1;fill-rule:evenodd;stroke:none;stroke-width:1.41111112;stroke-linecap:butt;stroke-linejoin:miter;stroke-miterlimit:4;stroke-dasharray:none;stroke-dashoffset:0;stroke-opacity:1;color-rendering:auto;image-rendering:auto;shape-rendering:auto;text-rendering:auto;enable-background:accumulate\"/><ellipse cx=\"99.312805\" cy=\"53.727486\" id=\"face1_9_2_16_20\" inkscape:label=\"#path864\" rx=\"5.9721437\" ry=\"4.5209684\" style=\"color:#000000;clip-rule:nonzero;display:inline;overflow:visible;visibility:visible;opacity:1;isolation:auto;mix-blend-mode:normal;color-interpolation:sRGB;color-interpolation-filters:linearRGB;solid-color:#000000;solid-opacity:1;vector-effect:none;fill:#ffffff;fill-opacity:1;fill-rule:evenodd;stroke:none;stroke-width:1.41111112;stroke-linecap:butt;stroke-linejoin:miter;stroke-miterlimit:4;stroke-dasharray:none;stroke-dashoffset:0;stroke-opacity:1;color-rendering:auto;image-rendering:auto;shape-rendering:auto;text-rendering:auto;enable-background:accumulate\"/><ellipse cx=\"191.21037\" cy=\"117.72757\" id=\"face2_16_17_3_8\" inkscape:label=\"#path864\" rx=\"5.9721437\" ry=\"4.5209684\" style=\"color:#000000;clip-rule:nonzero;display:inline;overflow:visible;visibility:visible;opacity:1;isolation:auto;mix-blend-mode:normal;color-interpolation:sRGB;color-interpolation-filters:linearRGB;solid-color:#000000;solid-opacity:1;vector-effect:none;fill:#ffffff;fill-opacity:1;fill-rule:evenodd;stroke:none;stroke-width:1.41111112;stroke-linecap:butt;stroke-linejoin:miter;stroke-miterlimit:4;stroke-dasharray:none;stroke-dashoffset:0;stroke-opacity:1;color-rendering:auto;image-rendering:auto;shape-rendering:auto;text-rendering:auto;enable-background:accumulate\"/><ellipse cx=\"21.347244\" cy=\"25.124493\" id=\"vertex20\" inkscape:label=\"#circle821\" rx=\"4.1496916\" ry=\"4.1494522\" style=\"color:#000000;clip-rule:nonzero;display:inline;overflow:visible;visibility:visible;opacity:1;isolation:auto;mix-blend-mode:normal;color-interpolation:sRGB;color-interpolation-filters:linearRGB;solid-color:#000000;solid-opacity:1;vector-effect:none;fill:#ffffff;fill-opacity:1;fill-rule:evenodd;stroke:#000000;stroke-width:1.41111112;stroke-linecap:butt;stroke-linejoin:miter;stroke-miterlimit:4;stroke-dasharray:none;stroke-dashoffset:0;stroke-opacity:1;color-rendering:auto;image-rendering:auto;shape-rendering:auto;text-rendering:auto;enable-background:accumulate\"/><path d=\"M 48.551518,62.421581 98.967712,87.756354\" id=\"edge1_9\" inkscape:connection-end=\"#vertex9\" inkscape:connection-start=\"#vertex1\" inkscape:connector-curvature=\"0\" inkscape:connector-type=\"polyline\" style=\"display:inline;opacity:1;vector-effect:none;fill:none;fill-opacity:1;fill-rule:evenodd;stroke:#dd2a2b;stroke-width:1.411111;stroke-linecap:butt;stroke-linejoin:miter;stroke-miterlimit:4;stroke-dasharray:none;stroke-dashoffset:0;stroke-opacity:1\"/><path d=\"M 106.26114,87.718404 154.68542,62.749637\" id=\"edge2_9\" inkscape:connection-end=\"#vertex2\" inkscape:connection-start=\"#vertex9\" inkscape:connector-curvature=\"0\" inkscape:connector-type=\"polyline\" style=\"display:inline;opacity:1;vector-effect:none;fill:none;fill-opacity:1;fill-rule:evenodd;stroke:#000000;stroke-width:1.411111;stroke-linecap:butt;stroke-linejoin:miter;stroke-miterlimit:4;stroke-dasharray:none;stroke-dashoffset:0;stroke-opacity:1\"/><path d=\"m 158.19773,64.964226 -1.72321,56.511424\" id=\"edge2_8\" inkscape:connection-end=\"#vertex8\" inkscape:connection-start=\"#vertex2\" inkscape:connector-curvature=\"0\" inkscape:connector-type=\"polyline\" style=\"opacity:1;vector-effect:none;fill:none;fill-opacity:1;fill-rule:evenodd;stroke:#000000;stroke-width:1.411111;stroke-linecap:butt;stroke-linejoin:miter;stroke-miterlimit:4;stroke-dasharray:none;stroke-dashoffset:0;stroke-opacity:1\"/><path d=\"m 159.09149,128.60325 35.36206,39.17957\" id=\"edge3_8\" inkscape:connection-end=\"#vertex3\" inkscape:connection-start=\"#vertex8\" inkscape:connector-curvature=\"0\" inkscape:connector-type=\"polyline\" style=\"display:inline;opacity:1;vector-effect:none;fill:none;fill-opacity:1;fill-rule:evenodd;stroke:#000000;stroke-width:1.411111;stroke-linecap:butt;stroke-linejoin:miter;stroke-miterlimit:4;stroke-dasharray:none;stroke-dashoffset:0;stroke-opacity:1\"/><path d=\"m 193.28132,172.01488 -53.96249,16.46743\" id=\"edge3_7\" inkscape:connection-end=\"#vertex7\" inkscape:connection-start=\"#vertex3\" inkscape:connector-curvature=\"0\" inkscape:connector-type=\"polyline\" style=\"display:inline;opacity:1;vector-effect:none;fill:none;fill-opacity:1;fill-rule:evenodd;stroke:#000000;stroke-width:1.411111;stroke-linecap:butt;stroke-linejoin:miter;stroke-miterlimit:4;stroke-dasharray:none;stroke-dashoffset:0;stroke-opacity:1\"/><path d=\"m 133.09087,193.05153 -28.1527,41.05806\" id=\"edge4_7\" inkscape:connection-end=\"#vertex4\" inkscape:connection-start=\"#vertex7\" inkscape:connector-curvature=\"0\" inkscape:connector-type=\"polyline\" style=\"display:inline;opacity:1;vector-effect:none;fill:none;fill-opacity:1;fill-rule:evenodd;stroke:#000000;stroke-width:1.411111;stroke-linecap:butt;stroke-linejoin:miter;stroke-miterlimit:4;stroke-dasharray:none;stroke-dashoffset:0;stroke-opacity:1\"/><path d=\"M 100.34527,234.08574 72.847411,193.07537\" id=\"edge4_6\" inkscape:connection-end=\"#vertex6\" inkscape:connection-start=\"#vertex4\" inkscape:connector-curvature=\"0\" inkscape:connector-type=\"polyline\" style=\"display:inline;opacity:1;vector-effect:none;fill:none;fill-opacity:1;fill-rule:evenodd;stroke:#000000;stroke-width:1.411111;stroke-linecap:butt;stroke-linejoin:miter;stroke-miterlimit:4;stroke-dasharray:none;stroke-dashoffset:0;stroke-opacity:1\"/><path d=\"M 66.661942,188.4588 13.99029,172.03838\" id=\"edge5_6\" inkscape:connection-end=\"#vertex5\" inkscape:connection-start=\"#vertex6\" inkscape:connector-curvature=\"0\" inkscape:connector-type=\"polyline\" style=\"display:inline;opacity:1;vector-effect:none;fill:none;fill-opacity:1;fill-rule:evenodd;stroke:#000000;stroke-width:1.411111;stroke-linecap:butt;stroke-linejoin:miter;stroke-miterlimit:4;stroke-dasharray:none;stroke-dashoffset:0;stroke-opacity:1\"/><path d=\"M 12.768711,167.73268 48.011979,127.20292\" id=\"edge5_10\" inkscape:connection-end=\"#vertex10\" inkscape:connection-start=\"#vertex5\" inkscape:connector-curvature=\"0\" inkscape:connector-type=\"polyline\" style=\"display:inline;opacity:1;vector-effect:none;fill:none;fill-opacity:1;fill-rule:evenodd;stroke:#000000;stroke-width:1.411111;stroke-linecap:butt;stroke-linejoin:miter;stroke-miterlimit:4;stroke-dasharray:none;stroke-dashoffset:0;stroke-opacity:1\"/><path d=\"M 50.324894,120.04023 45.267256,64.659077\" id=\"edge1_10\" inkscape:connection-end=\"#vertex1\" inkscape:connection-start=\"#vertex10\" inkscape:connector-curvature=\"0\" inkscape:connector-type=\"polyline\" style=\"display:inline;opacity:1;vector-effect:none;fill:none;fill-opacity:1;fill-rule:evenodd;stroke:#000000;stroke-width:1.411111;stroke-linecap:butt;stroke-linejoin:miter;stroke-miterlimit:4;stroke-dasharray:none;stroke-dashoffset:0;stroke-opacity:1\"/><path d=\"M 84.420053,135.57039 99.361109,124.26365\" id=\"edge14_15\" inkscape:connection-end=\"#vertex15\" inkscape:connection-start=\"#vertex14\" inkscape:connector-curvature=\"0\" inkscape:connector-type=\"polyline\" style=\"opacity:1;vector-effect:none;fill:none;fill-opacity:1;fill-rule:evenodd;stroke:#000000;stroke-width:1.411111;stroke-linecap:butt;stroke-linejoin:miter;stroke-miterlimit:4;stroke-dasharray:none;stroke-dashoffset:0;stroke-opacity:1\"/><path d=\"m 105.98056,124.13502 15.33438,10.69371\" id=\"edge11_15\" inkscape:connection-end=\"#vertex11\" inkscape:connection-start=\"#vertex15\" inkscape:connector-curvature=\"0\" inkscape:connector-type=\"polyline\" style=\"opacity:1;vector-effect:none;fill:none;fill-opacity:1;fill-rule:evenodd;stroke:#000000;stroke-width:1.411111;stroke-linecap:butt;stroke-linejoin:miter;stroke-miterlimit:4;stroke-dasharray:none;stroke-dashoffset:0;stroke-opacity:1\"/><path d=\"m 123.48347,141.08511 -5.45676,17.98708\" id=\"edge11_12\" inkscape:connection-end=\"#vertex12\" inkscape:connection-start=\"#vertex11\" inkscape:connector-curvature=\"0\" inkscape:connector-type=\"polyline\" style=\"opacity:1;vector-effect:none;fill:none;fill-opacity:1;fill-rule:evenodd;stroke:#000000;stroke-width:1.411111;stroke-linecap:butt;stroke-linejoin:miter;stroke-miterlimit:4;stroke-dasharray:none;stroke-dashoffset:0;stroke-opacity:1\"/><path d=\"M 112.74691,162.94437 93.661714,162.74134\" id=\"edge12_13\" inkscape:connection-end=\"#vertex13\" inkscape:connection-start=\"#vertex12\" inkscape:connector-curvature=\"0\" inkscape:connector-type=\"polyline\" style=\"opacity:1;vector-effect:none;fill:none;fill-opacity:1;fill-rule:evenodd;stroke:#000000;stroke-width:1.411111;stroke-linecap:butt;stroke-linejoin:miter;stroke-miterlimit:4;stroke-dasharray:none;stroke-dashoffset:0;stroke-opacity:1\"/><path d=\"M 88.248548,158.8251 82.478326,141.91238\" id=\"edge13_14\" inkscape:connection-end=\"#vertex14\" inkscape:connection-start=\"#vertex13\" inkscape:connector-curvature=\"0\" inkscape:connector-type=\"polyline\" style=\"opacity:1;vector-effect:none;fill:none;fill-opacity:1;fill-rule:evenodd;stroke:#000000;stroke-width:1.411111;stroke-linecap:butt;stroke-linejoin:miter;stroke-miterlimit:4;stroke-dasharray:none;stroke-dashoffset:0;stroke-opacity:1\"/><path d=\"m 119.17555,166.34697 13.89262,19.97065\" id=\"edge7_12\" inkscape:connection-end=\"#vertex7\" inkscape:connection-start=\"#vertex12\" inkscape:connector-curvature=\"0\" inkscape:connector-type=\"polyline\" style=\"display:inline;opacity:1;vector-effect:none;fill:none;fill-opacity:1;fill-rule:evenodd;stroke:#000000;stroke-width:1.411111;stroke-linecap:butt;stroke-linejoin:miter;stroke-miterlimit:4;stroke-dasharray:none;stroke-dashoffset:0;stroke-opacity:1\"/><path d=\"M 87.213576,166.04332 72.924817,186.33118\" id=\"edge6_13\" inkscape:connection-end=\"#vertex6\" inkscape:connection-start=\"#vertex13\" inkscape:connector-curvature=\"0\" inkscape:connector-type=\"polyline\" style=\"display:inline;opacity:1;vector-effect:none;fill:none;fill-opacity:1;fill-rule:evenodd;stroke:#000000;stroke-width:1.411111;stroke-linecap:butt;stroke-linejoin:miter;stroke-miterlimit:4;stroke-dasharray:none;stroke-dashoffset:0;stroke-opacity:1\"/><path d=\"M 77.435392,136.33836 54.418688,125.81644\" id=\"edge10_14\" inkscape:connection-end=\"#vertex10\" inkscape:connection-start=\"#vertex14\" inkscape:connector-curvature=\"0\" inkscape:connector-type=\"polyline\" style=\"opacity:1;vector-effect:none;fill:none;fill-opacity:1;fill-rule:evenodd;stroke:#000000;stroke-width:1.411111;stroke-linecap:butt;stroke-linejoin:miter;stroke-miterlimit:4;stroke-dasharray:none;stroke-dashoffset:0;stroke-opacity:1\"/><path d=\"M 102.62412,117.70244 V 93.685656\" id=\"edge9_15\" inkscape:connection-end=\"#vertex9\" inkscape:connection-start=\"#vertex15\" inkscape:connector-curvature=\"0\" inkscape:connector-type=\"polyline\" style=\"opacity:1;vector-effect:none;fill:none;fill-opacity:1;fill-rule:evenodd;stroke:#000000;stroke-width:1.411111;stroke-linecap:butt;stroke-linejoin:miter;stroke-miterlimit:4;stroke-dasharray:none;stroke-dashoffset:0;stroke-opacity:1\"/><path d=\"m 152.50742,126.97305 -23.99364,8.78889\" id=\"edge8_11\" inkscape:connection-end=\"#vertex11\" inkscape:connection-start=\"#vertex8\" inkscape:connector-curvature=\"0\" inkscape:connector-type=\"polyline\" style=\"display:inline;opacity:1;vector-effect:none;fill:none;fill-opacity:1;fill-rule:evenodd;stroke:#000000;stroke-width:1.411111;stroke-linecap:butt;stroke-linejoin:miter;stroke-miterlimit:4;stroke-dasharray:none;stroke-dashoffset:0;stroke-opacity:1\"/><path d=\"M 25.496871,25.135106 176.0927,25.52027\" id=\"edge16_20\" inkscape:connection-end=\"#vertex16\" inkscape:connection-start=\"#vertex20\" inkscape:connector-curvature=\"0\" inkscape:connector-type=\"polyline\" style=\"display:inline;opacity:1;vector-effect:none;fill:none;fill-opacity:1;fill-rule:evenodd;stroke:#000000;stroke-width:1.411111;stroke-linecap:butt;stroke-linejoin:miter;stroke-miterlimit:4;stroke-dasharray:none;stroke-dashoffset:0;stroke-opacity:1\"/><path d=\"M 20.097753,29.08135 -26.169015,175.59771\" id=\"edge19_20\" inkscape:connection-end=\"#vertex19\" inkscape:connection-start=\"#vertex20\" inkscape:connector-curvature=\"0\" inkscape:connector-type=\"polyline\" style=\"display:inline;opacity:1;vector-effect:none;fill:none;fill-opacity:1;fill-rule:evenodd;stroke:#000000;stroke-width:1.411111;stroke-linecap:butt;stroke-linejoin:miter;stroke-miterlimit:4;stroke-dasharray:none;stroke-dashoffset:0;stroke-opacity:1\"/><path d=\"M -24.051624,181.98007 98.850234,270.51862\" id=\"edge18_19\" inkscape:connection-end=\"#vertex18\" inkscape:connection-start=\"#vertex19\" inkscape:connector-curvature=\"0\" inkscape:connector-type=\"polyline\" style=\"display:inline;opacity:1;vector-effect:none;fill:none;fill-opacity:1;fill-rule:evenodd;stroke:#000000;stroke-width:1.411111;stroke-linecap:butt;stroke-linejoin:miter;stroke-miterlimit:4;stroke-dasharray:none;stroke-dashoffset:0;stroke-opacity:1\"/><path d=\"M 105.60873,270.55327 231.30581,181.94542\" id=\"edge17_18\" inkscape:connection-end=\"#vertex17\" inkscape:connection-start=\"#vertex18\" inkscape:connector-curvature=\"0\" inkscape:connector-type=\"polyline\" style=\"display:inline;opacity:1;vector-effect:none;fill:none;fill-opacity:1;fill-rule:evenodd;stroke:#000000;stroke-width:1.411111;stroke-linecap:butt;stroke-linejoin:miter;stroke-miterlimit:4;stroke-dasharray:none;stroke-dashoffset:0;stroke-opacity:1\"/><path d=\"M 181.62546,29.442987 233.31429,175.64246\" id=\"edge16_17\" inkscape:connection-end=\"#vertex17\" inkscape:connection-start=\"#vertex16\" inkscape:connector-curvature=\"0\" inkscape:connector-type=\"polyline\" style=\"display:inline;opacity:1;vector-effect:none;fill:none;fill-opacity:1;fill-rule:evenodd;stroke:#000000;stroke-width:1.411111;stroke-linecap:butt;stroke-linejoin:miter;stroke-miterlimit:4;stroke-dasharray:none;stroke-dashoffset:0;stroke-opacity:1\"/><path d=\"m 201.18065,171.74867 29.47532,6.86466\" id=\"edge3_17\" inkscape:connection-end=\"#vertex17\" inkscape:connection-start=\"#vertex3\" inkscape:connector-curvature=\"0\" inkscape:connector-type=\"polyline\" style=\"display:inline;opacity:1;vector-effect:none;fill:none;fill-opacity:1;fill-rule:evenodd;stroke:#000000;stroke-width:1.411111;stroke-linecap:butt;stroke-linejoin:miter;stroke-miterlimit:4;stroke-dasharray:none;stroke-dashoffset:0;stroke-opacity:1\"/><path d=\"m 102.57716,241.57605 -0.31242,27.21891\" id=\"edge4_18\" inkscape:connection-end=\"#vertex18\" inkscape:connection-start=\"#vertex4\" inkscape:connector-curvature=\"0\" inkscape:connector-type=\"polyline\" style=\"display:inline;opacity:1;vector-effect:none;fill:none;fill-opacity:1;fill-rule:evenodd;stroke:#000000;stroke-width:1.411111;stroke-linecap:butt;stroke-linejoin:miter;stroke-miterlimit:4;stroke-dasharray:none;stroke-dashoffset:0;stroke-opacity:1\"/><path d=\"M -23.377056,178.61333 6.0982454,171.74867\" id=\"edge5_19\" inkscape:connection-end=\"#vertex5\" inkscape:connection-start=\"#vertex19\" inkscape:connector-curvature=\"0\" inkscape:connector-type=\"polyline\" style=\"display:inline;opacity:1;vector-effect:none;fill:none;fill-opacity:1;fill-rule:evenodd;stroke:#000000;stroke-width:1.411111;stroke-linecap:butt;stroke-linejoin:miter;stroke-miterlimit:4;stroke-dasharray:none;stroke-dashoffset:0;stroke-opacity:1\"/><path d=\"M 23.642749,28.58119 42.631446,57.175429\" id=\"edge1_20\" inkscape:connection-end=\"#vertex1\" inkscape:connection-start=\"#vertex20\" inkscape:connector-curvature=\"0\" inkscape:connector-type=\"polyline\" style=\"display:inline;opacity:1;vector-effect:none;fill:none;fill-opacity:1;fill-rule:evenodd;stroke:#000000;stroke-width:1.411111;stroke-linecap:butt;stroke-linejoin:miter;stroke-miterlimit:4;stroke-dasharray:none;stroke-dashoffset:0;stroke-opacity:1\"/><path d=\"M 160.47914,57.39686 178.05531,29.057213\" id=\"edge2_16\" inkscape:connection-end=\"#vertex16\" inkscape:connection-start=\"#vertex2\" inkscape:connector-curvature=\"0\" inkscape:connector-type=\"polyline\" style=\"display:inline;opacity:1;vector-effect:none;fill:none;fill-opacity:1;fill-rule:evenodd;stroke:#000000;stroke-width:1.411111;stroke-linecap:butt;stroke-linejoin:miter;stroke-miterlimit:4;stroke-dasharray:none;stroke-dashoffset:0;stroke-opacity:1\"/><path d=\"m 180.24233,25.530883 v 0\" id=\"edge16_16\" inkscape:connection-end=\"#vertex16\" inkscape:connection-start=\"#vertex16\" inkscape:connector-curvature=\"0\" inkscape:connector-type=\"polyline\" style=\"fill:none;fill-rule:evenodd;stroke:#000000;stroke-width:0.7858125px;stroke-linecap:butt;stroke-linejoin:miter;stroke-opacity:1\"/></g></svg>"
      ],
      "text/plain": [
       "<IPython.core.display.SVG object>"
      ]
     },
     "metadata": {},
     "output_type": "display_data"
    },
    {
     "name": "stdout",
     "output_type": "stream",
     "text": [
      "swap (v/e/f/q=quit): q\n"
     ]
    }
   ],
   "source": [
    "# Interactively allow the user to traverse the graph with mirror\n",
    "# operations.\n",
    "\n",
    "c.reload()\n",
    "c.default_start()\n",
    "c.show()\n",
    "\n",
    "cmd_map = {\n",
    "    'v': c.vertex_swap,\n",
    "    'e': c.edge_swap,\n",
    "    'f': c.face_swap,\n",
    "}\n",
    "\n",
    "while True:\n",
    "    cmd_string = input('swap (v/e/f/q=quit): ')\n",
    "    if 'q' in cmd_string.lower():\n",
    "        break\n",
    "    cmds = [\n",
    "        cmd_map.get(s, lambda: print('unknown command; doing nothing'))\n",
    "        for s in cmd_string.lower()\n",
    "    ]\n",
    "    with showing(c):\n",
    "        for cmd in cmds:\n",
    "            cmd()"
   ]
  }
 ],
 "metadata": {
  "kernelspec": {
   "display_name": "Python 3",
   "language": "python",
   "name": "python3"
  },
  "language_info": {
   "codemirror_mode": {
    "name": "ipython",
    "version": 3
   },
   "file_extension": ".py",
   "mimetype": "text/x-python",
   "name": "python",
   "nbconvert_exporter": "python",
   "pygments_lexer": "ipython3",
   "version": "3.7.0"
  }
 },
 "nbformat": 4,
 "nbformat_minor": 2
}
