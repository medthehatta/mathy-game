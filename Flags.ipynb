{
 "cells": [
  {
   "cell_type": "markdown",
   "metadata": {},
   "source": [
    "# Moving around regular graphs with flags\n",
    "\n",
    "This notebook lets us explore a means of navigating planar graphs (with a certain kind of symmetry) by applying \"nullary\" operations in a particular order.\n",
    "\n",
    "That is, the user is presented with a graph and a \"starting point\", and by providing strings of operations (`v`, `e`, and `f`), their starting point will move around the graph.\n",
    "\n",
    "The last cell has the demo, so if you \"Restart and run all\" you can play with it down at the bottom."
   ]
  },
  {
   "cell_type": "markdown",
   "metadata": {},
   "source": [
    "**Implementation Note**\n",
    "\n",
    "The vast majority of the implementation here is about drawing points moving on a very simple graph, and the approach is a little nonstandard.  So here's a brief description of the approach:\n",
    "\n",
    "The diagrams being output are SVGs, which are XML.  XML is obnoxious to work with using native libraries like lxml, so we use xmltodict and the lenses package to treat the SVG XML like a big dictionary.\n",
    "\n",
    "xmltodict will take an XML file and turn it into a list of dictionaries whose keys are tag names.  The values for each tag name are themselves lists of dictionaries, and nesting continues recursively.  Tag *attributes* are modeled as keys prefixed with \"@\".  So the id attribute of a top-level \"p\" tag might be at `root['p'][0]['@id']`, for example.\n",
    "\n",
    "The lenses library allows you to create [lenses](https://python-lenses.readthedocs.io/en/latest/tutorial/intro.html), which are essentially views into nested data structures.  You create a lens object that \"focuses\" on part of a data structure, and that object will have ways to get the data that you're focusing on out of a structure.\n",
    "\n",
    "They're different from, say, \"getter functions\" in that you can use them to also *set* the data you're focusing on within the structure.  Furthermore, your \"view\" doesn't have to simply be a slice of the structure you're traversing.  For example, here we have a lens which focuses on an XML string *as a dictionary*, and we can use lens setters to modify the dictionary.  The lens will then *change the XML string* in the appropriate way."
   ]
  },
  {
   "cell_type": "code",
   "execution_count": 1,
   "metadata": {
    "scrolled": true
   },
   "outputs": [],
   "source": [
    "from lenses import lens\n",
    "import xmltodict\n",
    "\n",
    "# Set up the lens which will let us \"focus\" on XML markup as a dictionary\n",
    "xml_dict_iso = lens.Iso(xmltodict.parse, xmltodict.unparse)"
   ]
  },
  {
   "cell_type": "code",
   "execution_count": 2,
   "metadata": {
    "scrolled": true
   },
   "outputs": [],
   "source": [
    "# Create functions which return lenses onto the vertex, edge, and face elements in our SVG.\n",
    "#\n",
    "# The vertex, edge, and face elements are ellipses, paths, and again ellipses whose names\n",
    "# are e.g. vertex1, edge1_2, face1_2_4, etc.\n",
    "#\n",
    "\n",
    "def lens_vertex(i):\n",
    "    return lens['svg']['g']['ellipse'].Each().Filter(lambda el: el['@id'] == 'vertex{}'.format(i))\n",
    "\n",
    "def lens_edge(i, j):\n",
    "    return lens['svg']['g']['path'].Each().Filter(lambda el: el['@id'] == 'edge{}_{}'.format(i, j))\n",
    "\n",
    "def lens_face(i, j, k):\n",
    "    return lens['svg']['g']['ellipse'].Each().Filter(lambda el: el['@id'] == 'face{}_{}_{}'.format(i, j, k))"
   ]
  },
  {
   "cell_type": "code",
   "execution_count": 3,
   "metadata": {
    "scrolled": true
   },
   "outputs": [],
   "source": [
    "def dict_from_style_kv(s):\n",
    "    return dict((k, v) for (k, v) in [ss.split(':', 1) for ss in s.split(';')])\n",
    "\n",
    "def style_kv_from_dict(d):\n",
    "    return ';'.join('{}:{}'.format(k, v) for (k, v) in d.items())\n",
    "\n",
    "# Set up the lens which will let us \"focus\" on a big CSS-like \"style string\" as a dictionary\n",
    "dict_kv_iso = lens.Iso(dict_from_style_kv, style_kv_from_dict)"
   ]
  },
  {
   "cell_type": "code",
   "execution_count": 4,
   "metadata": {
    "scrolled": true
   },
   "outputs": [],
   "source": [
    "# Set up the conventions for coloring active and inactive facets of the graph\n",
    "\n",
    "# Set some color constants\n",
    "active_color = '#dd2a2b'\n",
    "vertex_inactive_color = '#ffffff'\n",
    "edge_inactive_color = '#000000'\n",
    "face_inactive_color = '#ffffff'\n",
    "\n",
    "# Set up the lenses which focus on the appropriate color property for each type of facet\n",
    "vertex_style = lens['@style'] & dict_kv_iso & lens['fill']\n",
    "edge_style = lens['@style'] & dict_kv_iso & lens['stroke']\n",
    "face_style = lens['@style'] & dict_kv_iso & lens['fill']"
   ]
  },
  {
   "cell_type": "code",
   "execution_count": 8,
   "metadata": {
    "scrolled": true
   },
   "outputs": [],
   "source": [
    "from contextlib import contextmanager\n",
    "from IPython.display import SVG, display\n",
    "\n",
    "\n",
    "def _ms(*lst):\n",
    "    \"\"\"\n",
    "    Normalize edge and face names.\n",
    "    \n",
    "    Edges and faces have names with indices in increasing order,\n",
    "    so for example if we compute that we want to mess with edge (4, 3),\n",
    "    this function will normalize this to (3, 4).\n",
    "    \"\"\"\n",
    "    return tuple(sorted(lst))\n",
    "\n",
    "\n",
    "def require_started(func):\n",
    "    \"\"\"\n",
    "    Method decorator which makes sure a flag is started.\n",
    "    \n",
    "    If we are missing an active vertex, edge, or face, we can't use\n",
    "    some of the methods in ``SVGArtist``.  This marks those methods\n",
    "    so they can all fail consistently.\n",
    "    \"\"\"\n",
    "    def _wrapped(self, *args, **kwargs):\n",
    "        if None in [self.vertex, self.edge, self.face]:\n",
    "            raise ValueError('No flag has been started in \"{}\"'.format(self))\n",
    "        return func(self, *args, **kwargs)\n",
    "    return _wrapped\n",
    "\n",
    "\n",
    "@contextmanager\n",
    "def showing(artist):\n",
    "    \"\"\"Context manager which displays the SVGArtist upon exit.\"\"\"\n",
    "    try:\n",
    "        yield\n",
    "    finally:\n",
    "        artist.show()\n",
    "\n",
    "\n",
    "class SVGArtist(object):\n",
    "    \"\"\"\n",
    "    Represent an SVG graph.\n",
    "    \n",
    "    Knows how to draw flags moving around on the graph, and also\n",
    "    knows about how the primitive mirrors swap facets.\n",
    "    \"\"\"\n",
    "\n",
    "    def __init__(self, svg_file):\n",
    "        self.path = svg_file\n",
    "        self.svg = \"\"\n",
    "        self.vertex = None\n",
    "        self.edge = None\n",
    "        self.face = None\n",
    "        self.reload()\n",
    "\n",
    "    def reload(self):\n",
    "        with open(self.path, 'r') as f:\n",
    "            self.svg = f.read()\n",
    "  \n",
    "    def activate_vertex(self, i):\n",
    "        self.vertex = i\n",
    "        self.svg = (xml_dict_iso & lens_vertex(i) & vertex_style).set(active_color)(self.svg)\n",
    "        \n",
    "    def deactivate_vertex(self, i):\n",
    "        self.vertex = None\n",
    "        self.svg = (xml_dict_iso & lens_vertex(i) & vertex_style).set(vertex_inactive_color)(self.svg)\n",
    "\n",
    "    def activate_edge(self, i, j):\n",
    "        self.edge = (i, j)\n",
    "        self.svg = (xml_dict_iso & lens_edge(i, j) & edge_style).set(active_color)(self.svg)\n",
    "\n",
    "    def deactivate_edge(self, i, j):\n",
    "        self.edge = None\n",
    "        self.svg = (xml_dict_iso & lens_edge(i, j) & edge_style).set(edge_inactive_color)(self.svg)\n",
    "\n",
    "    def activate_face(self, i, j, k):\n",
    "        self.face = (i, j, k)\n",
    "        self.svg = (xml_dict_iso & lens_face(i, j, k) & face_style).set(active_color)(self.svg)\n",
    "        \n",
    "    def deactivate_face(self, i, j, k):\n",
    "        self.face = None\n",
    "        self.svg = (xml_dict_iso & lens_face(i, j, k) & face_style).set(face_inactive_color)(self.svg)\n",
    "        \n",
    "    def default_start(self):\n",
    "        self.activate_vertex(1)\n",
    "        self.activate_edge(1, 2)\n",
    "        self.activate_face(1, 2, 4)\n",
    "    \n",
    "    @require_started\n",
    "    def vertex_swap(self):\n",
    "        vi = self.vertex\n",
    "        (ei, ej) = self.edge\n",
    "        self.deactivate_vertex(vi)\n",
    "        if vi == ei:\n",
    "            self.activate_vertex(ej)\n",
    "        else:\n",
    "            self.activate_vertex(ei)\n",
    "\n",
    "    @require_started\n",
    "    def edge_swap(self):\n",
    "        vi = self.vertex\n",
    "        # FIXME: This only works in the tetrahedral graph\n",
    "        edge = _ms(vi, next(p for p in self.face if p not in self.edge))\n",
    "        self.deactivate_edge(*self.edge)\n",
    "        self.activate_edge(*edge)\n",
    "    \n",
    "    @require_started\n",
    "    def face_swap(self):\n",
    "        # FIXME: This only works in the tetrahedral graph\n",
    "        possible_vertices = [1, 2, 3, 4]\n",
    "        vertices_in_face = list(set(list(self.edge) + list(self.face)))\n",
    "        other_vertex = next(x for x in possible_vertices if x not in vertices_in_face)\n",
    "        face = _ms(other_vertex, *self.edge)\n",
    "        self.deactivate_face(*self.face)\n",
    "        self.activate_face(*face)\n",
    "        \n",
    "    def show(self):\n",
    "        \"\"\"Display the graph SVG in the IPython notebook.\"\"\"\n",
    "        display(SVG(self.svg))\n",
    "\n",
    "\n",
    "# Instantiate an SVGArtist for the included tetrahedral graph SVG.\n",
    "a = SVGArtist('tetrahedron.svg')"
   ]
  },
  {
   "cell_type": "code",
   "execution_count": 6,
   "metadata": {
    "scrolled": false
   },
   "outputs": [
    {
     "data": {
      "image/svg+xml": [
       "<svg height=\"100mm\" id=\"svg8\" inkscape:version=\"0.92.2 2405546, 2018-03-11\" sodipodi:docname=\"magma.svg\" version=\"1.1\" viewBox=\"0 0 210 297\" width=\"100mm\" xmlns=\"http://www.w3.org/2000/svg\" xmlns:cc=\"http://creativecommons.org/ns#\" xmlns:dc=\"http://purl.org/dc/elements/1.1/\" xmlns:inkscape=\"http://www.inkscape.org/namespaces/inkscape\" xmlns:rdf=\"http://www.w3.org/1999/02/22-rdf-syntax-ns#\" xmlns:sodipodi=\"http://sodipodi.sourceforge.net/DTD/sodipodi-0.dtd\" xmlns:svg=\"http://www.w3.org/2000/svg\"><defs id=\"defs2\"/><sodipodi:namedview bordercolor=\"#666666\" borderopacity=\"1.0\" id=\"base\" inkscape:current-layer=\"layer1\" inkscape:cx=\"150.41024\" inkscape:cy=\"178.54607\" inkscape:document-units=\"mm\" inkscape:pageopacity=\"0.0\" inkscape:pageshadow=\"2\" inkscape:window-height=\"1058\" inkscape:window-maximized=\"0\" inkscape:window-width=\"1299\" inkscape:window-x=\"0\" inkscape:window-y=\"16\" inkscape:zoom=\"2.2627417\" pagecolor=\"#ffffff\" showgrid=\"false\"/><metadata id=\"metadata5\"><rdf:RDF><cc:Work rdf:about=\"\"><dc:format>image/svg+xml</dc:format><dc:type rdf:resource=\"http://purl.org/dc/dcmitype/StillImage\"/><dc:title/></cc:Work></rdf:RDF></metadata><g id=\"layer1\" inkscape:groupmode=\"layer\" inkscape:label=\"Layer 1\"><ellipse cx=\"103.91759\" cy=\"130.72147\" id=\"face1_2_3\" inkscape:label=\"#path864\" rx=\"34.11306\" ry=\"25.937708\" style=\"color:#000000;clip-rule:nonzero;display:inline;overflow:visible;visibility:visible;opacity:1;isolation:auto;mix-blend-mode:normal;color-interpolation:sRGB;color-interpolation-filters:linearRGB;solid-color:#000000;solid-opacity:1;vector-effect:none;fill:#ffffff;fill-opacity:1;fill-rule:evenodd;stroke:#ffffff;stroke-width:1.41111112;stroke-linecap:butt;stroke-linejoin:miter;stroke-miterlimit:4;stroke-dasharray:none;stroke-dashoffset:0;stroke-opacity:1;color-rendering:auto;image-rendering:auto;shape-rendering:auto;text-rendering:auto;enable-background:accumulate\"/><ellipse cx=\"101.48661\" cy=\"171.7009\" id=\"face1_2_4\" inkscape:label=\"#path864\" rx=\"20.221727\" ry=\"15.308036\" style=\"color:#000000;clip-rule:nonzero;display:inline;overflow:visible;visibility:visible;opacity:1;isolation:auto;mix-blend-mode:normal;color-interpolation:sRGB;color-interpolation-filters:linearRGB;solid-color:#000000;solid-opacity:1;vector-effect:none;fill:#dd2a2b;fill-opacity:1;fill-rule:evenodd;stroke:#ffffff;stroke-width:1.41111112;stroke-linecap:butt;stroke-linejoin:miter;stroke-miterlimit:4;stroke-dasharray:none;stroke-dashoffset:0;stroke-opacity:1;color-rendering:auto;image-rendering:auto;shape-rendering:auto;text-rendering:auto;enable-background:accumulate\"/><ellipse cx=\"-160.59801\" cy=\"-44.684978\" id=\"face2_3_4\" inkscape:label=\"#ellipse868\" rx=\"20.221727\" ry=\"15.308036\" style=\"color:#000000;clip-rule:nonzero;display:inline;overflow:visible;visibility:visible;opacity:1;isolation:auto;mix-blend-mode:normal;color-interpolation:sRGB;color-interpolation-filters:linearRGB;solid-color:#000000;solid-opacity:1;vector-effect:none;fill:none;fill-opacity:1;fill-rule:evenodd;stroke:none;stroke-width:1.41111112;stroke-linecap:butt;stroke-linejoin:miter;stroke-miterlimit:4;stroke-dasharray:none;stroke-dashoffset:0;stroke-opacity:1;color-rendering:auto;image-rendering:auto;shape-rendering:auto;text-rendering:auto;enable-background:accumulate\" transform=\"matrix(-0.55888801,-0.82924314,-0.82924314,0.55888801,0,0)\"/><ellipse cx=\"-46.933723\" cy=\"126.66819\" id=\"face1_3_4\" inkscape:label=\"#ellipse866\" rx=\"20.221727\" ry=\"15.308036\" style=\"color:#000000;clip-rule:nonzero;display:inline;overflow:visible;visibility:visible;opacity:1;isolation:auto;mix-blend-mode:normal;color-interpolation:sRGB;color-interpolation-filters:linearRGB;solid-color:#000000;solid-opacity:1;vector-effect:none;fill:none;fill-opacity:1;fill-rule:evenodd;stroke:none;stroke-width:1.41111112;stroke-linecap:butt;stroke-linejoin:miter;stroke-miterlimit:4;stroke-dasharray:none;stroke-dashoffset:0;stroke-opacity:1;color-rendering:auto;image-rendering:auto;shape-rendering:auto;text-rendering:auto;enable-background:accumulate\" transform=\"rotate(-56.021069)\"/><ellipse cx=\"103.32647\" cy=\"130.43764\" id=\"vertex4\" inkscape:label=\"#circle821\" rx=\"13.856075\" ry=\"13.855251\" style=\"color:#000000;clip-rule:nonzero;display:inline;overflow:visible;visibility:visible;opacity:1;isolation:auto;mix-blend-mode:normal;color-interpolation:sRGB;color-interpolation-filters:linearRGB;solid-color:#000000;solid-opacity:1;vector-effect:none;fill:#ffffff;fill-opacity:1;fill-rule:evenodd;stroke:#000000;stroke-width:1.41111112;stroke-linecap:butt;stroke-linejoin:miter;stroke-miterlimit:4;stroke-dasharray:none;stroke-dashoffset:0;stroke-opacity:1;color-rendering:auto;image-rendering:auto;shape-rendering:auto;text-rendering:auto;enable-background:accumulate\"/><ellipse cx=\"17.110876\" cy=\"192.78627\" id=\"vertex1\" inkscape:label=\"#circle823\" rx=\"13.856075\" ry=\"13.855251\" style=\"color:#000000;clip-rule:nonzero;display:inline;overflow:visible;visibility:visible;opacity:1;isolation:auto;mix-blend-mode:normal;color-interpolation:sRGB;color-interpolation-filters:linearRGB;solid-color:#000000;solid-opacity:1;vector-effect:none;fill:#dd2a2b;fill-opacity:1;fill-rule:evenodd;stroke:#000000;stroke-width:1.41111112;stroke-linecap:butt;stroke-linejoin:miter;stroke-miterlimit:4;stroke-dasharray:none;stroke-dashoffset:0;stroke-opacity:1;color-rendering:auto;image-rendering:auto;shape-rendering:auto;text-rendering:auto;enable-background:accumulate\"/><ellipse cx=\"187.61758\" cy=\"195.48033\" id=\"vertex2\" inkscape:label=\"#circle825\" rx=\"13.856075\" ry=\"13.855251\" style=\"color:#000000;clip-rule:nonzero;display:inline;overflow:visible;visibility:visible;opacity:1;isolation:auto;mix-blend-mode:normal;color-interpolation:sRGB;color-interpolation-filters:linearRGB;solid-color:#000000;solid-opacity:1;vector-effect:none;fill:#ffffff;fill-opacity:1;fill-rule:evenodd;stroke:#000000;stroke-width:1.41111112;stroke-linecap:butt;stroke-linejoin:miter;stroke-miterlimit:4;stroke-dasharray:none;stroke-dashoffset:0;stroke-opacity:1;color-rendering:auto;image-rendering:auto;shape-rendering:auto;text-rendering:auto;enable-background:accumulate\"/><ellipse cx=\"101.05169\" cy=\"23.197268\" id=\"vertex3\" inkscape:label=\"#path819\" rx=\"13.856075\" ry=\"13.855251\" style=\"color:#000000;clip-rule:nonzero;display:inline;overflow:visible;visibility:visible;opacity:1;isolation:auto;mix-blend-mode:normal;color-interpolation:sRGB;color-interpolation-filters:linearRGB;solid-color:#000000;solid-opacity:1;vector-effect:none;fill:#ffffff;fill-opacity:1;fill-rule:evenodd;stroke:#000000;stroke-width:1.41111112;stroke-linecap:butt;stroke-linejoin:miter;stroke-miterlimit:4;stroke-dasharray:none;stroke-dashoffset:0;stroke-opacity:1;color-rendering:auto;image-rendering:auto;shape-rendering:auto;text-rendering:auto;enable-background:accumulate\"/><path d=\"M 174.40071,185.78042 115.15422,140.83213\" id=\"edge2_4\" inkscape:connector-curvature=\"0\" inkscape:connector-type=\"polyline\" inkscape:label=\"#path835\" style=\"fill:none;fill-rule:evenodd;stroke:#000000;stroke-width:1.41111112;stroke-linecap:butt;stroke-linejoin:miter;stroke-miterlimit:4;stroke-dasharray:none;stroke-opacity:1\"/><path d=\"m 102.94157,39.985897 0.3849,73.772003\" id=\"edge3_4\" inkscape:connector-curvature=\"0\" inkscape:connector-type=\"polyline\" inkscape:label=\"#path829\" sodipodi:nodetypes=\"cc\" style=\"fill:none;fill-rule:evenodd;stroke:#000000;stroke-width:1.41111112;stroke-linecap:butt;stroke-linejoin:miter;stroke-miterlimit:4;stroke-dasharray:none;stroke-opacity:1\"/><path d=\"M 90.45181,140.47971 31.027387,183.78605\" id=\"edge1_4\" inkscape:connector-curvature=\"0\" inkscape:connector-type=\"polyline\" inkscape:label=\"#path839\" style=\"fill:none;fill-rule:evenodd;stroke:#000000;stroke-width:1.41111112;stroke-linecap:butt;stroke-linejoin:miter;stroke-miterlimit:4;stroke-dasharray:none;stroke-opacity:1\"/><path d=\"M 91.179238,34.649229 24.358525,178.87263\" id=\"edge1_3\" inkscape:connector-curvature=\"0\" inkscape:connector-type=\"polyline\" inkscape:label=\"#path831\" sodipodi:nodetypes=\"cc\" style=\"fill:none;fill-rule:evenodd;stroke:#000000;stroke-width:1.41111112;stroke-linecap:butt;stroke-linejoin:miter;stroke-miterlimit:4;stroke-dasharray:none;stroke-opacity:1\"/><path d=\"M 32.754079,192.78627 171.6271,195.48034\" id=\"edge1_2\" inkscape:connector-curvature=\"0\" inkscape:connector-type=\"polyline\" inkscape:label=\"#path833\" style=\"fill:none;fill-rule:evenodd;stroke:#dd2a2b;stroke-width:1.41111112;stroke-linecap:butt;stroke-linejoin:miter;stroke-miterlimit:4;stroke-dasharray:none;stroke-opacity:1\"/><path d=\"M 111.93273,35.690059 180.82531,180.61007\" id=\"edge2_3\" inkscape:connector-curvature=\"0\" inkscape:connector-type=\"polyline\" inkscape:label=\"#path831\" sodipodi:nodetypes=\"cc\" style=\"fill:none;fill-rule:evenodd;stroke:#000000;stroke-width:1.41111112;stroke-linecap:butt;stroke-linejoin:miter;stroke-miterlimit:4;stroke-dasharray:none;stroke-opacity:1\"/></g></svg>"
      ],
      "text/plain": [
       "<IPython.core.display.SVG object>"
      ]
     },
     "metadata": {},
     "output_type": "display_data"
    },
    {
     "name": "stdout",
     "output_type": "stream",
     "text": [
      "swap (v/e/f/q=quit): q\n"
     ]
    }
   ],
   "source": [
    "# Interactively allow the user to traverse the graph with mirror\n",
    "# operations.\n",
    "\n",
    "a.default_start()\n",
    "a.show()\n",
    "\n",
    "cmd_map = {\n",
    "    'v': a.vertex_swap,\n",
    "    'e': a.edge_swap,\n",
    "    'f': a.face_swap,\n",
    "    None: (lambda: print('(unknown command; doing nothing)')),\n",
    "}\n",
    "\n",
    "while True:\n",
    "    cmd_string = input('swap (v/e/f/q=quit): ')\n",
    "    if 'q' in cmd_string.lower():\n",
    "        break\n",
    "    cmds = [cmd_map.get(s) for s in cmd_string.lower()]\n",
    "    with showing(a):\n",
    "        for cmd in cmds:\n",
    "            cmd()"
   ]
  }
 ],
 "metadata": {
  "kernelspec": {
   "display_name": "Python 3",
   "language": "python",
   "name": "python3"
  },
  "language_info": {
   "codemirror_mode": {
    "name": "ipython",
    "version": 3
   },
   "file_extension": ".py",
   "mimetype": "text/x-python",
   "name": "python",
   "nbconvert_exporter": "python",
   "pygments_lexer": "ipython3",
   "version": "3.7.0"
  }
 },
 "nbformat": 4,
 "nbformat_minor": 2
}
